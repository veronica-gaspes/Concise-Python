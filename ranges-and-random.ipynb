{
 "cells": [
  {
   "cell_type": "markdown",
   "id": "22837bde",
   "metadata": {},
   "source": [
    "# Ranges and random\n",
    "\n",
    "Here are som more expressions, of a more unusual form but very useful and well used in Python. \n",
    "\n",
    "## Range  \n",
    "\n",
    "Ranges are mostly used to control loops and in list comprehensions in Python, but you can also transform them into lists. The Python documentation describes them in [ranges](https://docs.python.org/3/library/stdtypes.html#ranges).\n",
    "\n"
   ]
  },
  {
   "cell_type": "code",
   "execution_count": 27,
   "id": "28986533",
   "metadata": {},
   "outputs": [
    {
     "data": {
      "text/plain": [
       "range(0, 10)"
      ]
     },
     "execution_count": 27,
     "metadata": {},
     "output_type": "execute_result"
    }
   ],
   "source": [
    "# range of numbers 0 ... 9. \n",
    "\n",
    "range(10)"
   ]
  },
  {
   "cell_type": "code",
   "execution_count": 28,
   "id": "b8862d25",
   "metadata": {},
   "outputs": [
    {
     "data": {
      "text/plain": [
       "[0, 1, 2, 3, 4, 5, 6, 7, 8, 9]"
      ]
     },
     "execution_count": 28,
     "metadata": {},
     "output_type": "execute_result"
    }
   ],
   "source": [
    "# the list funtion turns the range into a list, \n",
    "# so you can see the values in the range.\n",
    "\n",
    "list(range(10))"
   ]
  },
  {
   "cell_type": "code",
   "execution_count": 29,
   "id": "bcb10fa6",
   "metadata": {},
   "outputs": [
    {
     "data": {
      "text/plain": [
       "[2, 3, 4, 5, 6, 7, 8, 9]"
      ]
     },
     "execution_count": 29,
     "metadata": {},
     "output_type": "execute_result"
    }
   ],
   "source": [
    "# you can also indicate  with what number to start the range.\n",
    "\n",
    "list(range(2,10))"
   ]
  },
  {
   "cell_type": "code",
   "execution_count": 30,
   "id": "17f7e33a",
   "metadata": {},
   "outputs": [
    {
     "data": {
      "text/plain": [
       "[0, 2, 4, 6, 8]"
      ]
     },
     "execution_count": 30,
     "metadata": {},
     "output_type": "execute_result"
    }
   ],
   "source": [
    "# and you can say with what step to go from one number to the next\n",
    "\n",
    "# start with 0, end at 9 and use a step of 2:\n",
    "list(range(0,10,2))"
   ]
  },
  {
   "cell_type": "markdown",
   "id": "b259ab8e",
   "metadata": {},
   "source": [
    "## Random\n",
    "\n",
    "Random numbers and random values of other types are very useful. For example, to test our programs with random data when we explore how efficient programs are. There are a number of functions for generating random values and the Python documentation describes the ones we will use most often in [functions for integers](https://docs.python.org/3/library/random.html#functions-for-integers), [functions for sequences](https://docs.python.org/3/library/random.html#functions-for-sequences) and [real-valued distributions](https://docs.python.org/3/library/random.html#real-valued-distributions).\n",
    "\n",
    "In order to use all the functions we illustrate here you need to import the library ```random```:\n",
    "\n",
    "```import random```\n",
    "\n",
    "### Random integer numbers"
   ]
  },
  {
   "cell_type": "code",
   "execution_count": 31,
   "id": "a38f6897",
   "metadata": {},
   "outputs": [],
   "source": [
    "import random"
   ]
  },
  {
   "cell_type": "code",
   "execution_count": 32,
   "id": "572dd29d",
   "metadata": {},
   "outputs": [
    {
     "data": {
      "text/plain": [
       "1"
      ]
     },
     "execution_count": 32,
     "metadata": {},
     "output_type": "execute_result"
    }
   ],
   "source": [
    "# a random number that can be 0 or 1 or 2 or ... or 9. \n",
    "random.randrange(10)"
   ]
  },
  {
   "cell_type": "code",
   "execution_count": 33,
   "id": "f34c3937",
   "metadata": {},
   "outputs": [
    {
     "data": {
      "text/plain": [
       "8"
      ]
     },
     "execution_count": 33,
     "metadata": {},
     "output_type": "execute_result"
    }
   ],
   "source": [
    "# a random number that can be 2 or 3 or ... or 9\n",
    "\n",
    "random.randrange(2,10)"
   ]
  },
  {
   "cell_type": "code",
   "execution_count": 56,
   "id": "9dbf8d3c",
   "metadata": {},
   "outputs": [
    {
     "data": {
      "text/plain": [
       "6"
      ]
     },
     "execution_count": 56,
     "metadata": {},
     "output_type": "execute_result"
    }
   ],
   "source": [
    "# simulate throwing a dice:\n",
    "\n",
    "random.randrange(1,7)"
   ]
  },
  {
   "cell_type": "code",
   "execution_count": 71,
   "id": "778c038b",
   "metadata": {},
   "outputs": [
    {
     "data": {
      "text/plain": [
       "[4, 6, 3, 3, 5]"
      ]
     },
     "execution_count": 71,
     "metadata": {},
     "output_type": "execute_result"
    }
   ],
   "source": [
    "# combine list comprehension and random numbers to\n",
    "# simulate throwing 5 dices:\n",
    "\n",
    "[random.randrange(1,7) for x in range(5)]"
   ]
  },
  {
   "cell_type": "code",
   "execution_count": 73,
   "id": "d8f13386",
   "metadata": {},
   "outputs": [
    {
     "data": {
      "text/plain": [
       "[[6, 1, 1, 4, 1],\n",
       " [6, 6, 6, 1, 6],\n",
       " [3, 3, 2, 3, 5],\n",
       " [3, 4, 1, 4, 2],\n",
       " [3, 3, 4, 2, 5],\n",
       " [4, 5, 6, 5, 4],\n",
       " [4, 5, 5, 2, 2],\n",
       " [2, 2, 4, 3, 1],\n",
       " [1, 3, 2, 4, 2],\n",
       " [3, 4, 3, 5, 3]]"
      ]
     },
     "execution_count": 73,
     "metadata": {},
     "output_type": "execute_result"
    }
   ],
   "source": [
    "# 10 experiments throwing 5 dices \n",
    "# The value of this expression is a list of 10 lists with 5 elements each!\n",
    "\n",
    "[[random.randrange(1,7) for x in range(5)] for y in range(10)]"
   ]
  },
  {
   "cell_type": "markdown",
   "id": "38b37b84",
   "metadata": {},
   "source": [
    "### Functions for sequences\n",
    "\n",
    "Sequences can be strings, lists or ranges."
   ]
  },
  {
   "cell_type": "code",
   "execution_count": 38,
   "id": "ef355bdd",
   "metadata": {},
   "outputs": [
    {
     "data": {
      "text/plain": [
       "'h'"
      ]
     },
     "execution_count": 38,
     "metadata": {},
     "output_type": "execute_result"
    }
   ],
   "source": [
    "# a random letter from the alphabet:\n",
    "\n",
    "random.choice('abcdefghijklmnopqrstuvwxyz')"
   ]
  },
  {
   "cell_type": "code",
   "execution_count": 54,
   "id": "fcb72b44",
   "metadata": {},
   "outputs": [
    {
     "data": {
      "text/plain": [
       "879170"
      ]
     },
     "execution_count": 54,
     "metadata": {},
     "output_type": "execute_result"
    }
   ],
   "source": [
    "# a random even number in the range 0 ... 999999:\n",
    "\n",
    "random.choice(range(0,1000000,2))"
   ]
  },
  {
   "cell_type": "markdown",
   "id": "302e9a44",
   "metadata": {},
   "source": [
    "### Floating point numbers\n",
    "\n",
    "There are many interesting functions to generate numbers according to very specific distributions. We will only use one (maybe): a number in the interval $[0,1)$"
   ]
  },
  {
   "cell_type": "code",
   "execution_count": 70,
   "id": "1c3edf8e",
   "metadata": {},
   "outputs": [
    {
     "data": {
      "text/plain": [
       "0.04643607761443902"
      ]
     },
     "execution_count": 70,
     "metadata": {},
     "output_type": "execute_result"
    }
   ],
   "source": [
    "random.random()"
   ]
  }
 ],
 "metadata": {
  "kernelspec": {
   "display_name": "Python 3 (ipykernel)",
   "language": "python",
   "name": "python3"
  },
  "language_info": {
   "codemirror_mode": {
    "name": "ipython",
    "version": 3
   },
   "file_extension": ".py",
   "mimetype": "text/x-python",
   "name": "python",
   "nbconvert_exporter": "python",
   "pygments_lexer": "ipython3",
   "version": "3.10.0"
  }
 },
 "nbformat": 4,
 "nbformat_minor": 5
}
