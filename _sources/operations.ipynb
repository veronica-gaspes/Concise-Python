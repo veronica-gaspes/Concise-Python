{
 "cells": [
  {
   "cell_type": "markdown",
   "id": "4594c030",
   "metadata": {},
   "source": [
    "# Operations\n",
    "We now move to **operations**. Operations allow us to describe values indicating that something has to be calculated. Operations are specific to the different types, even if some of them mix types (for example comparing numbers results in a truth value!). \n",
    "\n",
    "It is important that you understand in what order the calculations are done when you use more than one operation to form an expression. This is guided (like in math) by what we call operator precedence, operator associativity and the order of evaluation. In the book this is described in detail in [an appendix](https://introcs.cs.princeton.edu/python/appendix_precedence/).\n",
    "In the Python documentation this is described in [chapters 6.16 and 6.17](https://docs.python.org/3/reference/expressions.html#evaluation-order)\n",
    "\n",
    "## Operations for integer numbers\n",
    "\n",
    "You are encouraged to experiment with expressions that use several operators, for example ```3 + 5 - 4 / 2```, to understand precedence, associativity and the order of evaluation. In order to express the calculation that you want you might need to use paretheses to make it clear what operator has to be used first."
   ]
  },
  {
   "cell_type": "code",
   "execution_count": 1,
   "id": "2c8c8eb7",
   "metadata": {},
   "outputs": [
    {
     "data": {
      "text/plain": [
       "7"
      ]
     },
     "execution_count": 1,
     "metadata": {},
     "output_type": "execute_result"
    }
   ],
   "source": [
    "3 + 4"
   ]
  },
  {
   "cell_type": "code",
   "execution_count": 2,
   "id": "f3291150",
   "metadata": {
    "scrolled": true
   },
   "outputs": [
    {
     "data": {
      "text/plain": [
       "-1"
      ]
     },
     "execution_count": 2,
     "metadata": {},
     "output_type": "execute_result"
    }
   ],
   "source": [
    "3 - 4"
   ]
  },
  {
   "cell_type": "code",
   "execution_count": 3,
   "id": "10d873d3",
   "metadata": {
    "scrolled": true
   },
   "outputs": [
    {
     "data": {
      "text/plain": [
       "2"
      ]
     },
     "execution_count": 3,
     "metadata": {},
     "output_type": "execute_result"
    }
   ],
   "source": [
    "3 + 4 - 5"
   ]
  },
  {
   "cell_type": "code",
   "execution_count": 4,
   "id": "c98ba568",
   "metadata": {
    "scrolled": true
   },
   "outputs": [
    {
     "data": {
      "text/plain": [
       "-6"
      ]
     },
     "execution_count": 4,
     "metadata": {},
     "output_type": "execute_result"
    }
   ],
   "source": [
    "3 - 4 - 5"
   ]
  },
  {
   "cell_type": "code",
   "execution_count": 5,
   "id": "4c7c50ca",
   "metadata": {},
   "outputs": [
    {
     "data": {
      "text/plain": [
       "4"
      ]
     },
     "execution_count": 5,
     "metadata": {},
     "output_type": "execute_result"
    }
   ],
   "source": [
    "3 - (4 - 5)"
   ]
  },
  {
   "cell_type": "code",
   "execution_count": 6,
   "id": "8f577500",
   "metadata": {},
   "outputs": [
    {
     "data": {
      "text/plain": [
       "1.5"
      ]
     },
     "execution_count": 6,
     "metadata": {},
     "output_type": "execute_result"
    }
   ],
   "source": [
    "# this operation converts (casts) 3 and  2 to float \n",
    "# and results in a float!\n",
    "\n",
    "3 / 2"
   ]
  },
  {
   "cell_type": "code",
   "execution_count": 7,
   "id": "e2f85ed2",
   "metadata": {},
   "outputs": [
    {
     "data": {
      "text/plain": [
       "12345678"
      ]
     },
     "execution_count": 7,
     "metadata": {},
     "output_type": "execute_result"
    }
   ],
   "source": [
    "# this operation returns the quotient of integer division.\n",
    "\n",
    "123456789 // 10"
   ]
  },
  {
   "cell_type": "code",
   "execution_count": 8,
   "id": "c77832b5",
   "metadata": {},
   "outputs": [
    {
     "data": {
      "text/plain": [
       "9"
      ]
     },
     "execution_count": 8,
     "metadata": {},
     "output_type": "execute_result"
    }
   ],
   "source": [
    "# this operation returns the remainder  of integer division.\n",
    "\n",
    "123456789 % 10"
   ]
  },
  {
   "cell_type": "code",
   "execution_count": 9,
   "id": "2fbbe18a",
   "metadata": {},
   "outputs": [
    {
     "data": {
      "text/plain": [
       "4294967296"
      ]
     },
     "execution_count": 9,
     "metadata": {},
     "output_type": "execute_result"
    }
   ],
   "source": [
    "2 ** 32"
   ]
  },
  {
   "cell_type": "code",
   "execution_count": 10,
   "id": "87515071",
   "metadata": {},
   "outputs": [
    {
     "data": {
      "text/plain": [
       "(True, False, False, False, True, True)"
      ]
     },
     "execution_count": 10,
     "metadata": {},
     "output_type": "execute_result"
    }
   ],
   "source": [
    "# These operations result in a boolean value.\n",
    "# Make sure you agree to the values in the six-tuple!\n",
    "\n",
    "(3 == 3, 3 != 3, 3 < 3, 3 > 3, 3 <= 3, 3 >= 3)"
   ]
  },
  {
   "cell_type": "markdown",
   "id": "4878dd9e",
   "metadata": {},
   "source": [
    "## Operations for floating point numbers\n",
    "\n",
    "You are encouraged to experiment with expressions that use several operators, for example ```3 + 5 - 4 / 2```, to understand precedence, associativity and the order of evaluation. In order to express the calculation that you want you might need to use paretheses to make it clear what operator has to be used first."
   ]
  },
  {
   "cell_type": "code",
   "execution_count": 11,
   "id": "c4f5d6cd",
   "metadata": {},
   "outputs": [
    {
     "data": {
      "text/plain": [
       "5.141592653589793"
      ]
     },
     "execution_count": 11,
     "metadata": {},
     "output_type": "execute_result"
    }
   ],
   "source": [
    "3.141592653589793 + 2.0"
   ]
  },
  {
   "cell_type": "code",
   "execution_count": 12,
   "id": "62c54c72",
   "metadata": {},
   "outputs": [
    {
     "data": {
      "text/plain": [
       "10.8456789"
      ]
     },
     "execution_count": 12,
     "metadata": {},
     "output_type": "execute_result"
    }
   ],
   "source": [
    "0.123456789e2 - 1.5"
   ]
  },
  {
   "cell_type": "code",
   "execution_count": 13,
   "id": "9dd64a4d",
   "metadata": {},
   "outputs": [
    {
     "data": {
      "text/plain": [
       "-2.0000000000000004"
      ]
     },
     "execution_count": 13,
     "metadata": {},
     "output_type": "execute_result"
    }
   ],
   "source": [
    "1.4142135623730951 * -1.4142135623730951"
   ]
  },
  {
   "cell_type": "code",
   "execution_count": 14,
   "id": "0b979755",
   "metadata": {},
   "outputs": [
    {
     "data": {
      "text/plain": [
       "8.343006090394447"
      ]
     },
     "execution_count": 14,
     "metadata": {},
     "output_type": "execute_result"
    }
   ],
   "source": [
    "10.3 / 1.234567"
   ]
  },
  {
   "cell_type": "code",
   "execution_count": 15,
   "id": "940e3442",
   "metadata": {},
   "outputs": [
    {
     "data": {
      "text/plain": [
       "2.0000000000000004"
      ]
     },
     "execution_count": 15,
     "metadata": {},
     "output_type": "execute_result"
    }
   ],
   "source": [
    "1.4142135623730951 ** 2.0"
   ]
  },
  {
   "cell_type": "code",
   "execution_count": 16,
   "id": "999f2532",
   "metadata": {},
   "outputs": [
    {
     "data": {
      "text/plain": [
       "(True, False, False, False, True, True)"
      ]
     },
     "execution_count": 16,
     "metadata": {},
     "output_type": "execute_result"
    }
   ],
   "source": [
    "# These operations result in a boolean value.\n",
    "# Make sure you agree to the values in the six-tuple!\n",
    "\n",
    "(3.1 == 3.1, 3.1 != 3.1, 3.1 < 3.1, 3.1 > 3.1, 3.1 <= 3.1, 3.1 >= 3.1)"
   ]
  },
  {
   "cell_type": "markdown",
   "id": "e03517f7",
   "metadata": {},
   "source": [
    "## Operations for booleans\n",
    "\n",
    "For the order of evaluation see [boolean operations](https://docs.python.org/3/reference/expressions.html#boolean-operations)"
   ]
  },
  {
   "cell_type": "code",
   "execution_count": 17,
   "id": "e8a323d9",
   "metadata": {},
   "outputs": [
    {
     "data": {
      "text/plain": [
       "False"
      ]
     },
     "execution_count": 17,
     "metadata": {},
     "output_type": "execute_result"
    }
   ],
   "source": [
    "True and False"
   ]
  },
  {
   "cell_type": "code",
   "execution_count": 18,
   "id": "9d85b50e",
   "metadata": {},
   "outputs": [
    {
     "data": {
      "text/plain": [
       "True"
      ]
     },
     "execution_count": 18,
     "metadata": {},
     "output_type": "execute_result"
    }
   ],
   "source": [
    "True or False"
   ]
  },
  {
   "cell_type": "code",
   "execution_count": 19,
   "id": "7c070bd5",
   "metadata": {},
   "outputs": [
    {
     "data": {
      "text/plain": [
       "False"
      ]
     },
     "execution_count": 19,
     "metadata": {},
     "output_type": "execute_result"
    }
   ],
   "source": [
    "not True"
   ]
  },
  {
   "cell_type": "code",
   "execution_count": 20,
   "id": "d6b70f94",
   "metadata": {},
   "outputs": [
    {
     "data": {
      "text/plain": [
       "True"
      ]
     },
     "execution_count": 20,
     "metadata": {},
     "output_type": "execute_result"
    }
   ],
   "source": [
    "3 > 3 and 3 == 3 or 3 >= 3"
   ]
  },
  {
   "cell_type": "code",
   "execution_count": 21,
   "id": "3f8c3951",
   "metadata": {},
   "outputs": [
    {
     "data": {
      "text/plain": [
       "True"
      ]
     },
     "execution_count": 21,
     "metadata": {},
     "output_type": "execute_result"
    }
   ],
   "source": [
    "123456 % 3 == 0"
   ]
  },
  {
   "cell_type": "code",
   "execution_count": 22,
   "id": "395c28e6",
   "metadata": {},
   "outputs": [
    {
     "data": {
      "text/plain": [
       "True"
      ]
     },
     "execution_count": 22,
     "metadata": {},
     "output_type": "execute_result"
    }
   ],
   "source": [
    "12345 % 3 == 0"
   ]
  },
  {
   "cell_type": "code",
   "execution_count": 23,
   "id": "a00104ae",
   "metadata": {},
   "outputs": [
    {
     "data": {
      "text/plain": [
       "True"
      ]
     },
     "execution_count": 23,
     "metadata": {},
     "output_type": "execute_result"
    }
   ],
   "source": [
    "1234 % 3 == 0 or 1234 % 2 == 0 "
   ]
  },
  {
   "cell_type": "markdown",
   "id": "de60902b",
   "metadata": {},
   "source": [
    "## Operations for strings"
   ]
  },
  {
   "cell_type": "code",
   "execution_count": 24,
   "id": "bec8c930",
   "metadata": {},
   "outputs": [
    {
     "data": {
      "text/plain": [
       "'Hello to you, vero!'"
      ]
     },
     "execution_count": 24,
     "metadata": {},
     "output_type": "execute_result"
    }
   ],
   "source": [
    "# + is append!\n",
    "\n",
    "'Hello to you, ' + 'vero!'"
   ]
  },
  {
   "cell_type": "code",
   "execution_count": 25,
   "id": "8341a4fc",
   "metadata": {},
   "outputs": [
    {
     "data": {
      "text/plain": [
       "'----------'"
      ]
     },
     "execution_count": 25,
     "metadata": {},
     "output_type": "execute_result"
    }
   ],
   "source": [
    "# string * int: use + as many time as the number indicates\n",
    "\n",
    "10 * '-'"
   ]
  },
  {
   "cell_type": "code",
   "execution_count": 26,
   "id": "0be1d218",
   "metadata": {},
   "outputs": [
    {
     "data": {
      "text/plain": [
       "'this, and this, and this, and that!'"
      ]
     },
     "execution_count": 26,
     "metadata": {},
     "output_type": "execute_result"
    }
   ],
   "source": [
    "# Make sure you learn about precedence, associativity \n",
    "# and the order of evaluation\n",
    "\n",
    "3 * 'this, and ' + 'that!'"
   ]
  },
  {
   "cell_type": "code",
   "execution_count": 27,
   "id": "11faed85",
   "metadata": {},
   "outputs": [
    {
     "data": {
      "text/plain": [
       "('t', 'h', 'i', 's')"
      ]
     },
     "execution_count": 27,
     "metadata": {},
     "output_type": "execute_result"
    }
   ],
   "source": [
    "# string[int] results in the character (string) \n",
    "# in the position given by the number.\n",
    "# The first position is 0.\n",
    "\n",
    "('this'[0],'this'[1],'this'[2],'this'[3])"
   ]
  },
  {
   "cell_type": "code",
   "execution_count": 28,
   "id": "02be7bdd",
   "metadata": {},
   "outputs": [
    {
     "data": {
      "text/plain": [
       "'s'"
      ]
     },
     "execution_count": 28,
     "metadata": {},
     "output_type": "execute_result"
    }
   ],
   "source": [
    "# Negative numbers can be used as positions.\n",
    "\n",
    "'this'[-1]"
   ]
  },
  {
   "cell_type": "markdown",
   "id": "0a63b624",
   "metadata": {},
   "source": [
    "## Operations for tuples\n",
    "\n",
    "The operation ```tuple[int]``` results in the element in the tuple in the position indicated by the number. Positions start with 0. Negative numbers can be used as positions: -1 is the position length of tuple - 1 (the last position in the tuple)."
   ]
  },
  {
   "cell_type": "code",
   "execution_count": 29,
   "id": "ba8351c5",
   "metadata": {},
   "outputs": [
    {
     "data": {
      "text/plain": [
       "3.141592653589793"
      ]
     },
     "execution_count": 29,
     "metadata": {},
     "output_type": "execute_result"
    }
   ],
   "source": [
    "(3.141592653589793, 'Pi!', True)[0]"
   ]
  },
  {
   "cell_type": "code",
   "execution_count": 30,
   "id": "f3fa73d7",
   "metadata": {},
   "outputs": [
    {
     "data": {
      "text/plain": [
       "'Pi!'"
      ]
     },
     "execution_count": 30,
     "metadata": {},
     "output_type": "execute_result"
    }
   ],
   "source": [
    "(3.141592653589793, 'Pi!', True)[1]"
   ]
  },
  {
   "cell_type": "code",
   "execution_count": 31,
   "id": "dbeb1dd3",
   "metadata": {},
   "outputs": [
    {
     "data": {
      "text/plain": [
       "True"
      ]
     },
     "execution_count": 31,
     "metadata": {},
     "output_type": "execute_result"
    }
   ],
   "source": [
    "(3.141592653589793, 'Pi!', True)[2]"
   ]
  },
  {
   "cell_type": "code",
   "execution_count": 32,
   "id": "d5d97856",
   "metadata": {},
   "outputs": [
    {
     "data": {
      "text/plain": [
       "True"
      ]
     },
     "execution_count": 32,
     "metadata": {},
     "output_type": "execute_result"
    }
   ],
   "source": [
    "(3.141592653589793, 'Pi!', True)[-1]"
   ]
  },
  {
   "cell_type": "markdown",
   "id": "22ccae08",
   "metadata": {},
   "source": [
    "## Operations for lists\n",
    "\n",
    "Again, selecting the element for a position, same as for strings and tuples.\n",
    "\n",
    "But also slicing: ```list[start:end]``` results in a list with the elements at positions ```start``` upto ```end - 1```. The end points of the slice can be omitted, see the examples below.\n",
    "\n",
    "```+``` and ```* int``` as for strings. \n",
    "\n",
    "Finally, list comprehensions (hopefully familiar from math: set comprehensios)."
   ]
  },
  {
   "cell_type": "code",
   "execution_count": 33,
   "id": "698b8f3e",
   "metadata": {},
   "outputs": [
    {
     "data": {
      "text/plain": [
       "1"
      ]
     },
     "execution_count": 33,
     "metadata": {},
     "output_type": "execute_result"
    }
   ],
   "source": [
    "[1,2,3,4][0]"
   ]
  },
  {
   "cell_type": "code",
   "execution_count": 34,
   "id": "b28df893",
   "metadata": {},
   "outputs": [
    {
     "data": {
      "text/plain": [
       "4"
      ]
     },
     "execution_count": 34,
     "metadata": {},
     "output_type": "execute_result"
    }
   ],
   "source": [
    "[1,2,3,4][-1]"
   ]
  },
  {
   "cell_type": "code",
   "execution_count": 35,
   "id": "b07a8415",
   "metadata": {},
   "outputs": [
    {
     "data": {
      "text/plain": [
       "[2, 3]"
      ]
     },
     "execution_count": 35,
     "metadata": {},
     "output_type": "execute_result"
    }
   ],
   "source": [
    "[1,2,3,4][1:3]"
   ]
  },
  {
   "cell_type": "code",
   "execution_count": 36,
   "id": "ebc9c673",
   "metadata": {},
   "outputs": [
    {
     "data": {
      "text/plain": [
       "[1, 2, 3]"
      ]
     },
     "execution_count": 36,
     "metadata": {},
     "output_type": "execute_result"
    }
   ],
   "source": [
    "[1,2,3,4][:3]"
   ]
  },
  {
   "cell_type": "code",
   "execution_count": 37,
   "id": "4dc6c4de",
   "metadata": {},
   "outputs": [
    {
     "data": {
      "text/plain": [
       "[2, 3, 4]"
      ]
     },
     "execution_count": 37,
     "metadata": {},
     "output_type": "execute_result"
    }
   ],
   "source": [
    "[1,2,3,4][1:]"
   ]
  },
  {
   "cell_type": "code",
   "execution_count": 38,
   "id": "11d8dd05",
   "metadata": {},
   "outputs": [
    {
     "data": {
      "text/plain": [
       "[1, 2, 3]"
      ]
     },
     "execution_count": 38,
     "metadata": {},
     "output_type": "execute_result"
    }
   ],
   "source": [
    "[1,2,3,4][:-1]"
   ]
  },
  {
   "cell_type": "code",
   "execution_count": 39,
   "id": "88330748",
   "metadata": {},
   "outputs": [
    {
     "data": {
      "text/plain": [
       "[1, 2, 3, 4, 4, 3, 2, 1]"
      ]
     },
     "execution_count": 39,
     "metadata": {},
     "output_type": "execute_result"
    }
   ],
   "source": [
    "[1,2,3,4] + [4,3,2,1]"
   ]
  },
  {
   "cell_type": "code",
   "execution_count": 40,
   "id": "a88621d6",
   "metadata": {},
   "outputs": [
    {
     "data": {
      "text/plain": [
       "[0, 0, 0, 0, 0, 0, 0, 0, 0, 0]"
      ]
     },
     "execution_count": 40,
     "metadata": {},
     "output_type": "execute_result"
    }
   ],
   "source": [
    "10 * [0]"
   ]
  },
  {
   "cell_type": "code",
   "execution_count": 41,
   "id": "a37c5ca2",
   "metadata": {},
   "outputs": [
    {
     "data": {
      "text/plain": [
       "[1, 4, 9, 16]"
      ]
     },
     "execution_count": 41,
     "metadata": {},
     "output_type": "execute_result"
    }
   ],
   "source": [
    "# Your first list comprehension.\n",
    "# Read it as:\n",
    "#      The list of x square for all values x in the list [1,2,3,4]\n",
    "\n",
    "[x ** 2 for x in [1,2,3,4]]"
   ]
  },
  {
   "cell_type": "code",
   "execution_count": 42,
   "id": "dddbd718",
   "metadata": {},
   "outputs": [
    {
     "data": {
      "text/plain": [
       "[2, 4]"
      ]
     },
     "execution_count": 42,
     "metadata": {},
     "output_type": "execute_result"
    }
   ],
   "source": [
    "# Your second list comprehension.\n",
    "# Read it as:\n",
    "#      The list of x in the list [1,2,3,4] if x is even\n",
    "\n",
    "[x for x in [1,2,3,4] if x % 2 == 0]"
   ]
  },
  {
   "cell_type": "code",
   "execution_count": 43,
   "id": "894bfc57",
   "metadata": {},
   "outputs": [
    {
     "data": {
      "text/plain": [
       "[4, 16]"
      ]
     },
     "execution_count": 43,
     "metadata": {},
     "output_type": "execute_result"
    }
   ],
   "source": [
    "# Your third list comprehension.\n",
    "# Read it as:\n",
    "#      The list of x square for x in the list [1,2,3,4] if x is even\n",
    "\n",
    "[x ** 2 for x in [1,2,3,4] if x % 2 == 0]"
   ]
  }
 ],
 "metadata": {
  "kernelspec": {
   "display_name": "Python 3 (ipykernel)",
   "language": "python",
   "name": "python3"
  },
  "language_info": {
   "codemirror_mode": {
    "name": "ipython",
    "version": 3
   },
   "file_extension": ".py",
   "mimetype": "text/x-python",
   "name": "python",
   "nbconvert_exporter": "python",
   "pygments_lexer": "ipython3",
   "version": "3.10.0"
  }
 },
 "nbformat": 4,
 "nbformat_minor": 5
}
