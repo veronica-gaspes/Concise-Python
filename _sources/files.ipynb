{
 "cells": [
  {
   "cell_type": "markdown",
   "id": "500f72a7",
   "metadata": {},
   "source": [
    "# Using files of text\n",
    "\n",
    "In order to work with the content of a file, a Python program need to access this content. The program needs to have access to the file and use ways for reading the content into the program, whether as a whole ore piecewise. The same goes for writing to a file. \n",
    "\n",
    "In this short notebook we focus on files of text whose content is read into the program as strings. The same goes for writing. In case you need Python's documentation you find it [here](https://docs.python.org/3.10/tutorial/inputoutput.html#reading-and-writing-files).\n",
    "\n",
    "We include a section that shows the tools you can find in Python to break up strings into interesting substrings (for example words!).\n",
    "\n",
    "## Reding from a file of text\n",
    "\n",
    "You need to know the name of the file (including the path relative to the folder where the program is running). Then you can just use\n",
    "\n",
    "```Python\n",
    "file_variable = open(file_name, 'r')\n",
    "```\n",
    "in order to have a variable in your program to work with the file. The ```r``` means that you can use your file variable with methods that read from the file.\n",
    "\n",
    "You can choose to read line by line to get one string per line using\n",
    "\n",
    "```Python\n",
    "line = file_variable.readline()\n",
    "```\n",
    "\n",
    "If you want to read all lines from a file you can use a ```for```-loop as follows:\n",
    "\n",
    "```Python\n",
    "for line in file_variable:\n",
    "    # do what you need to do with the string in line\n",
    "```\n",
    "\n",
    "Or, you can read all of the content in the file at once:\n",
    "\n",
    "```Python\n",
    "text = file_variable.read()\n",
    "```\n",
    "\n",
    "When you are done reading you should close the file:\n",
    "\n",
    "```Python\n",
    "file_variable.close()\n",
    "```\n",
    "\n",
    "In order to write to a file you need to open it for writing as in \n",
    "\n",
    "\n",
    "```Python\n",
    "file_variable = open(file_name, 'w')\n",
    "```\n",
    "\n",
    "and you can use \n",
    "\n",
    "\n",
    "```Python\n",
    "file_variable.write('the string you want to add to the file')\n",
    "```\n",
    "\n",
    "When you are done writing you should close the file:\n",
    "\n",
    "```Python\n",
    "file_variable.close()\n",
    "```\n",
    "\n",
    "Here are a couple of examples for which you need to have the files that we used in the same folder as you are running this notebook!"
   ]
  },
  {
   "cell_type": "code",
   "execution_count": 29,
   "id": "e57b0721",
   "metadata": {},
   "outputs": [
    {
     "name": "stdout",
     "output_type": "stream",
     "text": [
      "This is a file of text. In this text there are some sentences organised in paragraphs. We are interested in counting the number of sentences.\n",
      "\n",
      "This second paragraph is here to be able to have an extra line. There are sentences in this line too. \n",
      "\n",
      "\n"
     ]
    },
    {
     "data": {
      "text/plain": [
       "'This is a file of text. In this text there are some sentences organised in paragraphs. We are interested in counting the number of sentences.\\n\\nThis second paragraph is here to be able to have an extra line. There are sentences in this line too. \\n\\n'"
      ]
     },
     "execution_count": 29,
     "metadata": {},
     "output_type": "execute_result"
    }
   ],
   "source": [
    "f = open('text-test', 'r')\n",
    "txt = f.read()\n",
    "\n",
    "\n",
    "# we both print the string txt and ask for its value. \n",
    "# Hope you see the \\n for newlines in the value. These are used in print to change line.\n",
    "\n",
    "print(txt)\n",
    "txt"
   ]
  },
  {
   "cell_type": "code",
   "execution_count": 30,
   "id": "58e85ef2",
   "metadata": {},
   "outputs": [
    {
     "name": "stdout",
     "output_type": "stream",
     "text": [
      "This is a file of text. In this text there are some sentences organised in paragraphs. We are interested in counting the number of sentences.\n",
      "\n",
      "\n",
      "\n",
      "This second paragraph is here to be able to have an extra line. There are sentences in this line too. \n",
      "\n",
      "\n",
      "\n"
     ]
    }
   ],
   "source": [
    "f = open('text-test', 'r')\n",
    "\n",
    "for line in f:\n",
    "    print(line)"
   ]
  },
  {
   "cell_type": "code",
   "execution_count": 31,
   "id": "8aefc863",
   "metadata": {},
   "outputs": [],
   "source": [
    "# The file 'output-text' does not need to exist before running this code\n",
    "f = open('output-text', 'w')\n",
    "\n",
    "f.write('Adding output! \\n\\n')\n",
    "\n",
    "f.write(txt)\n",
    "\n",
    "f.write('That is it!')\n",
    "\n",
    "f.close()"
   ]
  },
  {
   "cell_type": "markdown",
   "id": "ccdc6838",
   "metadata": {},
   "source": [
    "## Splitting strings\n",
    "\n",
    "It is often the case that you want to analyse the content of a text file. You might want to grab the sentences or the words for example. For doing this there is a lot of help in the module for *regular expressions*.  We present you here with an example of how to use this module. \n",
    "\n",
    "To get access to the functions and methods in the module you need to import it:\n",
    "```Python\n",
    "import re\n",
    "```\n",
    "\n",
    "The method ```re.findall(pattern, text)``` returns a list with all the strings in the text that have the form given in the pattern. It is this pattern that is given as a so called *regular expression*.\n",
    "\n",
    "In Python you write down a pattern as a string. \n",
    "\n",
    "The string ```'[a-z]'``` means any letter between ```'a'``` and ```'z'```.\n",
    "\n",
    "The string ```[a-z]+``` means any string that uses at least one letter between ```'a'``` and ```'z'```.\n",
    "\n",
    "If you want to include capital letters you can write  ```'[a-zA-Z]'``` in the pattern.\n",
    "\n",
    "So, here is a piece of code to get the list of words in the file we read before:\n",
    "\n"
   ]
  },
  {
   "cell_type": "code",
   "execution_count": 32,
   "id": "ef21807e",
   "metadata": {},
   "outputs": [],
   "source": [
    "import re"
   ]
  },
  {
   "cell_type": "code",
   "execution_count": 33,
   "id": "903a2ed8",
   "metadata": {},
   "outputs": [
    {
     "data": {
      "text/plain": [
       "['This',\n",
       " 'is',\n",
       " 'a',\n",
       " 'file',\n",
       " 'of',\n",
       " 'text',\n",
       " 'In',\n",
       " 'this',\n",
       " 'text',\n",
       " 'there',\n",
       " 'are',\n",
       " 'some',\n",
       " 'sentences',\n",
       " 'organised',\n",
       " 'in',\n",
       " 'paragraphs',\n",
       " 'We',\n",
       " 'are',\n",
       " 'interested',\n",
       " 'in',\n",
       " 'counting',\n",
       " 'the',\n",
       " 'number',\n",
       " 'of',\n",
       " 'sentences',\n",
       " 'This',\n",
       " 'second',\n",
       " 'paragraph',\n",
       " 'is',\n",
       " 'here',\n",
       " 'to',\n",
       " 'be',\n",
       " 'able',\n",
       " 'to',\n",
       " 'have',\n",
       " 'an',\n",
       " 'extra',\n",
       " 'line',\n",
       " 'There',\n",
       " 'are',\n",
       " 'sentences',\n",
       " 'in',\n",
       " 'this',\n",
       " 'line',\n",
       " 'too']"
      ]
     },
     "execution_count": 33,
     "metadata": {},
     "output_type": "execute_result"
    }
   ],
   "source": [
    "re.findall(r'[a-zA-Z]+', txt)"
   ]
  },
  {
   "cell_type": "markdown",
   "id": "6634b50b",
   "metadata": {},
   "source": [
    "And now sentences! Count the number of full stops!"
   ]
  },
  {
   "cell_type": "code",
   "execution_count": 25,
   "id": "f0b932be",
   "metadata": {},
   "outputs": [
    {
     "data": {
      "text/plain": [
       "243"
      ]
     },
     "execution_count": 25,
     "metadata": {},
     "output_type": "execute_result"
    }
   ],
   "source": [
    "len(re.findall(r'.', txt))"
   ]
  },
  {
   "cell_type": "markdown",
   "id": "5d399bb9",
   "metadata": {},
   "source": [
    "This was not what we expected! \n",
    "\n",
    "This is because '.' in regular expressions stands for any character (except new lines)!\n",
    "\n",
    "In order to count full stops in the text we need to use ```\\.``` and we need to remove the ```r``` before the pattern. If we do not remove it it will look for both the characters ```'\\'``` and ```.```."
   ]
  },
  {
   "cell_type": "code",
   "execution_count": 28,
   "id": "02e94cae",
   "metadata": {},
   "outputs": [
    {
     "data": {
      "text/plain": [
       "5"
      ]
     },
     "execution_count": 28,
     "metadata": {},
     "output_type": "execute_result"
    }
   ],
   "source": [
    "len(re.findall('\\.', txt))"
   ]
  },
  {
   "cell_type": "code",
   "execution_count": null,
   "id": "fcc040f9",
   "metadata": {},
   "outputs": [],
   "source": []
  }
 ],
 "metadata": {
  "kernelspec": {
   "display_name": "Python 3 (ipykernel)",
   "language": "python",
   "name": "python3"
  },
  "language_info": {
   "codemirror_mode": {
    "name": "ipython",
    "version": 3
   },
   "file_extension": ".py",
   "mimetype": "text/x-python",
   "name": "python",
   "nbconvert_exporter": "python",
   "pygments_lexer": "ipython3",
   "version": "3.10.0"
  }
 },
 "nbformat": 4,
 "nbformat_minor": 5
}
