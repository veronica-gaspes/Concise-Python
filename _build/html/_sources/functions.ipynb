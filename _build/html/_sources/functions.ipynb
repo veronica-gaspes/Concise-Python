{
 "cells": [
  {
   "cell_type": "markdown",
   "id": "a444dd2c",
   "metadata": {},
   "source": [
    "# Functions and methods\n",
    "\n",
    "In Python we can also use functions (and a special kind of functions called methods) to build expressions. There are many many functions and methods, we present only some of them. The Python documentation lists some of the functions available in [Built in functions](https://docs.python.org/3/library/functions.html).\n",
    "\n",
    "## Functions for integer numbers\n",
    "\n",
    "The Python documentation lists functions specific for numbers in [Numeric types](https://docs.python.org/3/library/stdtypes.html#numeric-types-int-float-complex)"
   ]
  },
  {
   "cell_type": "code",
   "execution_count": 1,
   "id": "dc32142e",
   "metadata": {},
   "outputs": [
    {
     "data": {
      "text/plain": [
       "'3'"
      ]
     },
     "execution_count": 1,
     "metadata": {},
     "output_type": "execute_result"
    }
   ],
   "source": [
    "str(3)"
   ]
  },
  {
   "cell_type": "code",
   "execution_count": 2,
   "id": "0265b9bd",
   "metadata": {},
   "outputs": [
    {
     "data": {
      "text/plain": [
       "3"
      ]
     },
     "execution_count": 2,
     "metadata": {},
     "output_type": "execute_result"
    }
   ],
   "source": [
    "abs(-3)"
   ]
  },
  {
   "cell_type": "code",
   "execution_count": 3,
   "id": "7185c031",
   "metadata": {},
   "outputs": [
    {
     "data": {
      "text/plain": [
       "3"
      ]
     },
     "execution_count": 3,
     "metadata": {},
     "output_type": "execute_result"
    }
   ],
   "source": [
    "abs(3)"
   ]
  },
  {
   "cell_type": "code",
   "execution_count": 4,
   "id": "6ca5dd52",
   "metadata": {},
   "outputs": [
    {
     "data": {
      "text/plain": [
       "(12345678, 9)"
      ]
     },
     "execution_count": 4,
     "metadata": {},
     "output_type": "execute_result"
    }
   ],
   "source": [
    "divmod(123456789,10)"
   ]
  },
  {
   "cell_type": "code",
   "execution_count": 5,
   "id": "dfbbf1a0",
   "metadata": {},
   "outputs": [
    {
     "data": {
      "text/plain": [
       "2"
      ]
     },
     "execution_count": 5,
     "metadata": {},
     "output_type": "execute_result"
    }
   ],
   "source": [
    "max(1,2)"
   ]
  },
  {
   "cell_type": "code",
   "execution_count": 6,
   "id": "47a983f1",
   "metadata": {},
   "outputs": [
    {
     "data": {
      "text/plain": [
       "5"
      ]
     },
     "execution_count": 6,
     "metadata": {},
     "output_type": "execute_result"
    }
   ],
   "source": [
    "max(5,4,3,2,1)"
   ]
  },
  {
   "cell_type": "code",
   "execution_count": 7,
   "id": "8bdcd4f1",
   "metadata": {},
   "outputs": [
    {
     "data": {
      "text/plain": [
       "1"
      ]
     },
     "execution_count": 7,
     "metadata": {},
     "output_type": "execute_result"
    }
   ],
   "source": [
    "min(1,2)"
   ]
  },
  {
   "cell_type": "code",
   "execution_count": 8,
   "id": "bf608ea4",
   "metadata": {},
   "outputs": [
    {
     "data": {
      "text/plain": [
       "1"
      ]
     },
     "execution_count": 8,
     "metadata": {},
     "output_type": "execute_result"
    }
   ],
   "source": [
    "min(5,4,3,2,1)"
   ]
  },
  {
   "cell_type": "code",
   "execution_count": 9,
   "id": "75df0f89",
   "metadata": {},
   "outputs": [
    {
     "data": {
      "text/plain": [
       "int"
      ]
     },
     "execution_count": 9,
     "metadata": {},
     "output_type": "execute_result"
    }
   ],
   "source": [
    "type(3)"
   ]
  },
  {
   "cell_type": "markdown",
   "id": "f066ab86",
   "metadata": {},
   "source": [
    "## Functions for floating point numbers\n",
    "\n",
    "Many of the functions in [Numeric types](https://docs.python.org/3/library/stdtypes.html#numeric-types-int-float-complex) are for floating point numbers. There are many more in the library ```math``` that you need to import if you want to use it. You import the library with the instruction \n",
    "```import math``` (see the examples below)."
   ]
  },
  {
   "cell_type": "code",
   "execution_count": 2,
   "id": "50c81388",
   "metadata": {},
   "outputs": [],
   "source": [
    "import math"
   ]
  },
  {
   "cell_type": "code",
   "execution_count": 3,
   "id": "ac82492c",
   "metadata": {},
   "outputs": [
    {
     "data": {
      "text/plain": [
       "3.141592653589793"
      ]
     },
     "execution_count": 3,
     "metadata": {},
     "output_type": "execute_result"
    }
   ],
   "source": [
    "# pi is a number, not a function.\n",
    "# Notice the use of the name of the library (math) and the .\n",
    "math.pi"
   ]
  },
  {
   "cell_type": "code",
   "execution_count": 12,
   "id": "5b520ee0",
   "metadata": {},
   "outputs": [
    {
     "data": {
      "text/plain": [
       "1.4142135623730951"
      ]
     },
     "execution_count": 12,
     "metadata": {},
     "output_type": "execute_result"
    }
   ],
   "source": [
    "math.sqrt(2)"
   ]
  },
  {
   "cell_type": "code",
   "execution_count": 4,
   "id": "ba9c9183",
   "metadata": {},
   "outputs": [
    {
     "data": {
      "text/plain": [
       "2.718281828459045"
      ]
     },
     "execution_count": 4,
     "metadata": {},
     "output_type": "execute_result"
    }
   ],
   "source": [
    "# e is a number, not a function\n",
    "math.e"
   ]
  },
  {
   "cell_type": "code",
   "execution_count": 14,
   "id": "8feb740d",
   "metadata": {},
   "outputs": [
    {
     "data": {
      "text/plain": [
       "1.0"
      ]
     },
     "execution_count": 14,
     "metadata": {},
     "output_type": "execute_result"
    }
   ],
   "source": [
    "math.log(math.e)"
   ]
  },
  {
   "cell_type": "code",
   "execution_count": 15,
   "id": "a958305f",
   "metadata": {},
   "outputs": [
    {
     "data": {
      "text/plain": [
       "1.0"
      ]
     },
     "execution_count": 15,
     "metadata": {},
     "output_type": "execute_result"
    }
   ],
   "source": [
    "math.sin(math.pi / 2)"
   ]
  },
  {
   "cell_type": "code",
   "execution_count": 16,
   "id": "46a6ce70",
   "metadata": {},
   "outputs": [
    {
     "data": {
      "text/plain": [
       "6.123233995736766e-17"
      ]
     },
     "execution_count": 16,
     "metadata": {},
     "output_type": "execute_result"
    }
   ],
   "source": [
    "# almost 0!\n",
    "\n",
    "math.cos(math.pi / 2)"
   ]
  },
  {
   "cell_type": "code",
   "execution_count": 17,
   "id": "2286eae6",
   "metadata": {},
   "outputs": [
    {
     "data": {
      "text/plain": [
       "3"
      ]
     },
     "execution_count": 17,
     "metadata": {},
     "output_type": "execute_result"
    }
   ],
   "source": [
    "math.floor(3.1)"
   ]
  },
  {
   "cell_type": "code",
   "execution_count": 18,
   "id": "e872153d",
   "metadata": {},
   "outputs": [
    {
     "data": {
      "text/plain": [
       "3"
      ]
     },
     "execution_count": 18,
     "metadata": {},
     "output_type": "execute_result"
    }
   ],
   "source": [
    "math.floor(3.6)"
   ]
  },
  {
   "cell_type": "code",
   "execution_count": 19,
   "id": "a6dc3699",
   "metadata": {},
   "outputs": [
    {
     "data": {
      "text/plain": [
       "4"
      ]
     },
     "execution_count": 19,
     "metadata": {},
     "output_type": "execute_result"
    }
   ],
   "source": [
    "math.ceil(3.1)"
   ]
  },
  {
   "cell_type": "code",
   "execution_count": 20,
   "id": "40616581",
   "metadata": {},
   "outputs": [
    {
     "data": {
      "text/plain": [
       "4"
      ]
     },
     "execution_count": 20,
     "metadata": {},
     "output_type": "execute_result"
    }
   ],
   "source": [
    "math.ceil(3.6)"
   ]
  },
  {
   "cell_type": "markdown",
   "id": "1e312c0d",
   "metadata": {},
   "source": [
    "## Functions and methods for strings\n",
    "\n",
    "Methods are used in a strange way: ```expression.method(arguments)```! Instead of ```function(all the arguments)```. You should think of the expression to the left of the ```.``` as being one more argument to the method.\n",
    "\n",
    "In the examples below, ```len``` is a function that has only one argument: the string for which it calculates the length.  But ```split``` is a method: it uses the string before the ```.``` and results in a list of strings. \n",
    "\n",
    "You can find very many functions and methods in [Text sequence type](https://docs.python.org/3/library/stdtypes.html#text-sequence-type-str).\n"
   ]
  },
  {
   "cell_type": "code",
   "execution_count": 21,
   "id": "c5edbd98",
   "metadata": {},
   "outputs": [
    {
     "data": {
      "text/plain": [
       "4"
      ]
     },
     "execution_count": 21,
     "metadata": {},
     "output_type": "execute_result"
    }
   ],
   "source": [
    "len('this')"
   ]
  },
  {
   "cell_type": "code",
   "execution_count": 22,
   "id": "324472c6",
   "metadata": {},
   "outputs": [
    {
     "data": {
      "text/plain": [
       "18"
      ]
     },
     "execution_count": 22,
     "metadata": {},
     "output_type": "execute_result"
    }
   ],
   "source": [
    "len('this is a sentence')"
   ]
  },
  {
   "cell_type": "code",
   "execution_count": 23,
   "id": "97f37a4e",
   "metadata": {},
   "outputs": [
    {
     "data": {
      "text/plain": [
       "['this', 'is', 'a', 'sentence']"
      ]
     },
     "execution_count": 23,
     "metadata": {},
     "output_type": "execute_result"
    }
   ],
   "source": [
    "'this is a sentence'.split()"
   ]
  },
  {
   "cell_type": "code",
   "execution_count": 24,
   "id": "e07dab01",
   "metadata": {},
   "outputs": [
    {
     "data": {
      "text/plain": [
       "['this is ', ' sentence']"
      ]
     },
     "execution_count": 24,
     "metadata": {},
     "output_type": "execute_result"
    }
   ],
   "source": [
    "# You can specify the separator:\n",
    "\n",
    "'this is a sentence'.split('a')"
   ]
  },
  {
   "cell_type": "code",
   "execution_count": 25,
   "id": "81932f34",
   "metadata": {},
   "outputs": [
    {
     "data": {
      "text/plain": [
       "['this is a s', 'nt', 'nc', '']"
      ]
     },
     "execution_count": 25,
     "metadata": {},
     "output_type": "execute_result"
    }
   ],
   "source": [
    "# Notice the empty string after the last 'e' in the result.\n",
    "\n",
    "'this is a sentence'.split('e')"
   ]
  },
  {
   "cell_type": "code",
   "execution_count": 26,
   "id": "4294fa5b",
   "metadata": {},
   "outputs": [
    {
     "data": {
      "text/plain": [
       "'this_is_a_sentence'"
      ]
     },
     "execution_count": 26,
     "metadata": {},
     "output_type": "execute_result"
    }
   ],
   "source": [
    "# join uses the string before the dot as connector to put together all\n",
    "# the strings in argument (a list of strings)\n",
    "\n",
    "'_'.join(['this','is','a','sentence'])"
   ]
  },
  {
   "cell_type": "code",
   "execution_count": 27,
   "id": "109d806f",
   "metadata": {},
   "outputs": [
    {
     "data": {
      "text/plain": [
       "'This is a sentence'"
      ]
     },
     "execution_count": 27,
     "metadata": {},
     "output_type": "execute_result"
    }
   ],
   "source": [
    "# Notice the big T in the result!\n",
    "\n",
    "'this is a sentence'.capitalize()"
   ]
  },
  {
   "cell_type": "code",
   "execution_count": 28,
   "id": "07a3d8ec",
   "metadata": {},
   "outputs": [
    {
     "data": {
      "text/plain": [
       "'THIS IS A SENTENCE'"
      ]
     },
     "execution_count": 28,
     "metadata": {},
     "output_type": "execute_result"
    }
   ],
   "source": [
    "'this is a sentence'.upper()"
   ]
  },
  {
   "cell_type": "code",
   "execution_count": 29,
   "id": "f6a5ae82",
   "metadata": {},
   "outputs": [
    {
     "data": {
      "text/plain": [
       "'this is a sentence'"
      ]
     },
     "execution_count": 29,
     "metadata": {},
     "output_type": "execute_result"
    }
   ],
   "source": [
    "'THIS IS A SENTENCE'.lower()"
   ]
  },
  {
   "cell_type": "code",
   "execution_count": 30,
   "id": "130f6a7c",
   "metadata": {},
   "outputs": [
    {
     "data": {
      "text/plain": [
       "True"
      ]
     },
     "execution_count": 30,
     "metadata": {},
     "output_type": "execute_result"
    }
   ],
   "source": [
    "'THIS IS A SENTENCE'.endswith('ENCE')"
   ]
  },
  {
   "cell_type": "code",
   "execution_count": 31,
   "id": "526210d6",
   "metadata": {},
   "outputs": [
    {
     "data": {
      "text/plain": [
       "True"
      ]
     },
     "execution_count": 31,
     "metadata": {},
     "output_type": "execute_result"
    }
   ],
   "source": [
    "'THIS IS A SENTENCE'.startswith('THIS')"
   ]
  },
  {
   "cell_type": "markdown",
   "id": "63b94c95",
   "metadata": {},
   "source": [
    "## Functions for lists\n",
    "\n",
    "Lots of functions and methods for lists are described in [Sequence types](https://docs.python.org/3/library/stdtypes.html#sequence-types-list-tuple-range)."
   ]
  },
  {
   "cell_type": "code",
   "execution_count": 32,
   "id": "2de1c914",
   "metadata": {},
   "outputs": [
    {
     "data": {
      "text/plain": [
       "0"
      ]
     },
     "execution_count": 32,
     "metadata": {},
     "output_type": "execute_result"
    }
   ],
   "source": [
    "len([])"
   ]
  },
  {
   "cell_type": "code",
   "execution_count": 33,
   "id": "1eeac47f",
   "metadata": {},
   "outputs": [
    {
     "data": {
      "text/plain": [
       "1"
      ]
     },
     "execution_count": 33,
     "metadata": {},
     "output_type": "execute_result"
    }
   ],
   "source": [
    "min([1,2,3,4])"
   ]
  },
  {
   "cell_type": "code",
   "execution_count": 34,
   "id": "bca8c16b",
   "metadata": {},
   "outputs": [
    {
     "data": {
      "text/plain": [
       "4"
      ]
     },
     "execution_count": 34,
     "metadata": {},
     "output_type": "execute_result"
    }
   ],
   "source": [
    "max([1,2,3,4])"
   ]
  },
  {
   "cell_type": "code",
   "execution_count": 35,
   "id": "34a297ed",
   "metadata": {},
   "outputs": [
    {
     "data": {
      "text/plain": [
       "10"
      ]
     },
     "execution_count": 35,
     "metadata": {},
     "output_type": "execute_result"
    }
   ],
   "source": [
    "sum([1,2,3,4])"
   ]
  },
  {
   "cell_type": "code",
   "execution_count": 36,
   "id": "e73b8dda",
   "metadata": {},
   "outputs": [
    {
     "data": {
      "text/plain": [
       "165"
      ]
     },
     "execution_count": 36,
     "metadata": {},
     "output_type": "execute_result"
    }
   ],
   "source": [
    "sum([x ** 2 for x in [1,3,5,7,9]])"
   ]
  },
  {
   "cell_type": "code",
   "execution_count": 37,
   "id": "f3430b32",
   "metadata": {},
   "outputs": [
    {
     "data": {
      "text/plain": [
       "[1, 2, 3, 4, 5]"
      ]
     },
     "execution_count": 37,
     "metadata": {},
     "output_type": "execute_result"
    }
   ],
   "source": [
    "sorted([5,4,3,2,1])"
   ]
  }
 ],
 "metadata": {
  "kernelspec": {
   "display_name": "Python 3 (ipykernel)",
   "language": "python",
   "name": "python3"
  },
  "language_info": {
   "codemirror_mode": {
    "name": "ipython",
    "version": 3
   },
   "file_extension": ".py",
   "mimetype": "text/x-python",
   "name": "python",
   "nbconvert_exporter": "python",
   "pygments_lexer": "ipython3",
   "version": "3.10.0"
  }
 },
 "nbformat": 4,
 "nbformat_minor": 5
}
