{
 "cells": [
  {
   "cell_type": "markdown",
   "id": "503581d0",
   "metadata": {},
   "source": [
    "# Defining functions\n",
    "\n",
    "We start by showing how to define functions as you would in mathemtics: to calculate a value given the values of the arguments. The purpose of these functions is to have more ways of building expressions.  \n",
    "\n",
    "We will anyway do it for arguments and results that are not only numbers: we will use all the types we learned about.\n",
    "\n",
    "For functions that introduce commands, please check [Functions can be commands](#commands)\n",
    "\n"
   ]
  },
  {
   "cell_type": "markdown",
   "id": "979ffd17",
   "metadata": {},
   "source": [
    "## Our first function\n",
    "\n",
    "We want a function that calculates the sum of the first n positive odd numbers. In math we would write the value that we want to calculate using the expression \n",
    "\n",
    "$$\\sum_{i = 1}^{i = n}{2i-1}$$\n",
    "\n",
    "And we would write the defintion as\n",
    "\n",
    "$$ f(n) = \\sum_{i = 1}^{i = n}{2i-1}$$\n",
    "\n",
    "You can try to calculate the value of $f$ for some values of $n$!\n",
    "\n",
    "In our programs we try to name functions with names that say something about what they calculate. We often also write a comment saying what the argument is supposed to be!"
   ]
  },
  {
   "cell_type": "code",
   "execution_count": 1,
   "id": "6a9534cb",
   "metadata": {},
   "outputs": [],
   "source": [
    "# n is an natural number: indicates the number of positive odds \n",
    "# that will be added.\n",
    "def first_evens_sum(n):\n",
    "    return sum([2*i-1 for i in range(1, n+1)])"
   ]
  },
  {
   "cell_type": "code",
   "execution_count": 2,
   "id": "af560db7",
   "metadata": {},
   "outputs": [
    {
     "data": {
      "text/plain": [
       "16"
      ]
     },
     "execution_count": 2,
     "metadata": {},
     "output_type": "execute_result"
    }
   ],
   "source": [
    "first_evens_sum(4)"
   ]
  },
  {
   "cell_type": "code",
   "execution_count": 3,
   "id": "16920afc",
   "metadata": {},
   "outputs": [
    {
     "data": {
      "text/plain": [
       "True"
      ]
     },
     "execution_count": 3,
     "metadata": {},
     "output_type": "execute_result"
    }
   ],
   "source": [
    "# here is an expression that uses your function:\n",
    "first_evens_sum(10) == 10**2"
   ]
  },
  {
   "cell_type": "markdown",
   "id": "07755c7f",
   "metadata": {},
   "source": [
    "In programs functions can return values than need not be numbers, for example booleans. The following function will allow us to test a hypothesis: it seems that the sum of the first $n$ odd numbers is $n^2$."
   ]
  },
  {
   "cell_type": "code",
   "execution_count": 4,
   "id": "7caa9720",
   "metadata": {},
   "outputs": [],
   "source": [
    "def hypothesis(n):\n",
    "    return first_evens_sum(n) == n**2"
   ]
  },
  {
   "cell_type": "code",
   "execution_count": 5,
   "id": "fbc4a8ee",
   "metadata": {},
   "outputs": [
    {
     "data": {
      "text/plain": [
       "True"
      ]
     },
     "execution_count": 5,
     "metadata": {},
     "output_type": "execute_result"
    }
   ],
   "source": [
    "hypothesis(25)"
   ]
  },
  {
   "cell_type": "markdown",
   "id": "c0624628",
   "metadata": {},
   "source": [
    "We will not try to prove that the result is true for all values of $n$ (that is something that you can do in math). But, we would like to test the hypothesis in many cases. \n",
    "\n",
    "We can in fact test it with random values for the argument. And we can do this many times. \n",
    "\n",
    "Here is a function that calculates ```True``` if the hypothesis is true for all tested cases and ```False``` if there is a test case that falsifies it.\n",
    "\n"
   ]
  },
  {
   "cell_type": "code",
   "execution_count": 6,
   "id": "ad9d5798",
   "metadata": {},
   "outputs": [],
   "source": [
    "# the argument is the number of times we want to test the hypothesis.\n",
    "import random\n",
    "def test_hypothesis(times):\n",
    "    for k in range(times):\n",
    "        n = random.randrange(0, 1000001)\n",
    "        if not hypothesis(n): return False\n",
    "    return True\n"
   ]
  },
  {
   "cell_type": "code",
   "execution_count": 7,
   "id": "783c6336",
   "metadata": {},
   "outputs": [
    {
     "data": {
      "text/plain": [
       "True"
      ]
     },
     "execution_count": 7,
     "metadata": {},
     "output_type": "execute_result"
    }
   ],
   "source": [
    "# test the hypothesis with 10 random numbers:\n",
    "test_hypothesis(10)"
   ]
  },
  {
   "cell_type": "markdown",
   "id": "0718012e",
   "metadata": {},
   "source": [
    "The function  ```test_hypothesis``` can seem a little strange; so lets explain it. The result is a truth value (a boolean): either true or false. Given a number that says how many times we want to test the hypothesis, it returns either true or false.\n",
    "\n",
    "The first thing to notice is that we needed commands to be able to calculate a result: the body of the function is not just an expression, instead it is a command that calculates a value.  \n",
    "\n",
    "The second thing to notice is the use of the ```return``` statement. There is one use inside the ```for-```loop. Every turn of the loop a random number is generated and used to compare the value of  ```first_evens_sum(n)```with ```n ** 2``` (using the function ```hypothesis```). If the hypothesis does not hold for a given number it means we do not need to do any more tests, we know already the result! The return in that place quits not only the ```for-```loop but also the function with value ```False```. If all of the random numbers that were generated in each turn of the loop do not falsify the hypothesis the loop will terminate after all the turns: and then we also know that the result is  ```True```."
   ]
  },
  {
   "cell_type": "markdown",
   "id": "ec0a1644",
   "metadata": {},
   "source": [
    "<a id=\"commands\"></a>\n",
    "\n",
    "## Functions can be commands\n",
    "\n",
    "We might want to have another function for testing the hypothesis, one that instead of calculating a boolean value prints an informative message to standard output. Here it is."
   ]
  },
  {
   "cell_type": "code",
   "execution_count": 8,
   "id": "98c85308",
   "metadata": {},
   "outputs": [],
   "source": [
    "def test_hyp(times):\n",
    "    for k in range(times):\n",
    "        n = random.randrange(0, 1000001)\n",
    "        if not hypothesis(n): \n",
    "            print('Number',n,'falsifies the hypothesis.')\n",
    "    print('The hypothesis was not falsified for any of the',times, 'random numbers.')\n",
    "\n"
   ]
  },
  {
   "cell_type": "code",
   "execution_count": 9,
   "id": "9cb91bc2",
   "metadata": {},
   "outputs": [
    {
     "name": "stdout",
     "output_type": "stream",
     "text": [
      "The hypothesis was not falsified for any of the 10 random numbers.\n"
     ]
    }
   ],
   "source": [
    "test_hyp(10)"
   ]
  },
  {
   "cell_type": "markdown",
   "id": "c8230147",
   "metadata": {},
   "source": [
    "This function is very different from the first one:\n",
    "* it does not calculate a value: instead it just prints a message. \n",
    "* it might print many messages: all values that falsify the hypothesis inside the loop will be printed. If we had wanted the function to end after finding the first case we could use a ```return``` without any value after the print."
   ]
  },
  {
   "cell_type": "markdown",
   "id": "4cde5fd9",
   "metadata": {},
   "source": [
    "## Functions with lists and strings\n",
    "\n",
    "Of course we can also define functions that take lists and / or strings as arguments and return  lists or strings as results."
   ]
  },
  {
   "cell_type": "code",
   "execution_count": 10,
   "id": "5f846f60",
   "metadata": {},
   "outputs": [],
   "source": [
    "# a is a non empty list  of numbers.\n",
    "def average(a):\n",
    "    return sum(a) / len(a) "
   ]
  },
  {
   "cell_type": "code",
   "execution_count": 11,
   "id": "9e4bc82b",
   "metadata": {},
   "outputs": [
    {
     "data": {
      "text/plain": [
       "3.0"
      ]
     },
     "execution_count": 11,
     "metadata": {},
     "output_type": "execute_result"
    }
   ],
   "source": [
    "average([1,2,3,4,5])"
   ]
  },
  {
   "cell_type": "code",
   "execution_count": 12,
   "id": "f645e985",
   "metadata": {},
   "outputs": [],
   "source": [
    "# s is a number and a is a list of numbers.\n",
    "# The result is a list of the same length as a \n",
    "# with the elements scaled by s\n",
    "\n",
    "def scale(s, a):\n",
    "    res = [0] * len(a)\n",
    "    for i in range(len(a)):\n",
    "        res[i] = s * a[i]\n",
    "    return res"
   ]
  },
  {
   "cell_type": "code",
   "execution_count": 13,
   "id": "bd0ef76a",
   "metadata": {},
   "outputs": [
    {
     "data": {
      "text/plain": [
       "[3, 6, 9, 12]"
      ]
     },
     "execution_count": 13,
     "metadata": {},
     "output_type": "execute_result"
    }
   ],
   "source": [
    "scale(3, [1,2,3,4])"
   ]
  },
  {
   "cell_type": "code",
   "execution_count": 14,
   "id": "e841ec44",
   "metadata": {},
   "outputs": [],
   "source": [
    "# n is a non negative integer, s is a string\n",
    "# The result has added n white spaces to s\n",
    "\n",
    "def indent(n, s):\n",
    "    spaces = ' ' * n\n",
    "    return spaces + s"
   ]
  },
  {
   "cell_type": "code",
   "execution_count": 15,
   "id": "ea67956d",
   "metadata": {},
   "outputs": [
    {
     "data": {
      "text/plain": [
       "'   this is it!'"
      ]
     },
     "execution_count": 15,
     "metadata": {},
     "output_type": "execute_result"
    }
   ],
   "source": [
    "indent(3, 'this is it!')"
   ]
  },
  {
   "cell_type": "markdown",
   "id": "a11e2ff8",
   "metadata": {},
   "source": [
    "## Functions with default arguments\n",
    "\n",
    "You have already seen that the command ```print``` can be used with the arguments that are to be printed, but that you can also configure it with values for the separator and ending strings. The way of achieving this is using arguments with default values.  Here we define a version of indent, that we call fill:"
   ]
  },
  {
   "cell_type": "code",
   "execution_count": 16,
   "id": "ea0e3721",
   "metadata": {},
   "outputs": [],
   "source": [
    "def fill(n, s, val = ' '):\n",
    "    filler = val * n\n",
    "    return filler + s"
   ]
  },
  {
   "cell_type": "code",
   "execution_count": 17,
   "id": "0197533f",
   "metadata": {},
   "outputs": [
    {
     "data": {
      "text/plain": [
       "'   this is it!'"
      ]
     },
     "execution_count": 17,
     "metadata": {},
     "output_type": "execute_result"
    }
   ],
   "source": [
    "fill(3, 'this is it!')"
   ]
  },
  {
   "cell_type": "code",
   "execution_count": 18,
   "id": "52fae0e8",
   "metadata": {},
   "outputs": [
    {
     "data": {
      "text/plain": [
       "'---this is it!'"
      ]
     },
     "execution_count": 18,
     "metadata": {},
     "output_type": "execute_result"
    }
   ],
   "source": [
    "fill(3, 'this is it!', val = '-')"
   ]
  },
  {
   "cell_type": "code",
   "execution_count": 19,
   "id": "6a253cfc",
   "metadata": {},
   "outputs": [
    {
     "data": {
      "text/plain": [
       "'***this is it!'"
      ]
     },
     "execution_count": 19,
     "metadata": {},
     "output_type": "execute_result"
    }
   ],
   "source": [
    "fill(3, 'this is it!', val = '*')"
   ]
  },
  {
   "cell_type": "code",
   "execution_count": 20,
   "id": "856387b7",
   "metadata": {},
   "outputs": [],
   "source": [
    "# This function is a command: it modifies a list by swaping two elements.\n",
    "# The arguments are the list a and the two positions for the elements to \n",
    "# swap place. \n",
    "def swap(a, i, j):\n",
    "    a[i],a[j] = a[j],a[i]"
   ]
  },
  {
   "cell_type": "code",
   "execution_count": 21,
   "id": "be9829e5",
   "metadata": {},
   "outputs": [
    {
     "data": {
      "text/plain": [
       "[1, 4, 3, 2]"
      ]
     },
     "execution_count": 21,
     "metadata": {},
     "output_type": "execute_result"
    }
   ],
   "source": [
    "lst = [1,2,3,4]\n",
    "swap(lst,1,3)\n",
    "lst"
   ]
  }
 ],
 "metadata": {
  "kernelspec": {
   "display_name": "Python 3",
   "language": "python",
   "name": "python3"
  },
  "language_info": {
   "codemirror_mode": {
    "name": "ipython",
    "version": 3
   },
   "file_extension": ".py",
   "mimetype": "text/x-python",
   "name": "python",
   "nbconvert_exporter": "python",
   "pygments_lexer": "ipython3",
   "version": "3.10.0"
  }
 },
 "nbformat": 4,
 "nbformat_minor": 5
}