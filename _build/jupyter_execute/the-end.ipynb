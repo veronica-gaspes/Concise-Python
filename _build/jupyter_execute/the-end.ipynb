{
 "cells": [
  {
   "cell_type": "markdown",
   "id": "0e1fb4a6",
   "metadata": {},
   "source": [
    "# The end\n",
    "\n",
    "This was all about expressions. Remember, expressions have values. We use literals, operations and functions to build expressions. Python takes expressions an calculates their values."
   ]
  }
 ],
 "metadata": {
  "kernelspec": {
   "display_name": "Python 3 (ipykernel)",
   "language": "python",
   "name": "python3"
  },
  "language_info": {
   "codemirror_mode": {
    "name": "ipython",
    "version": 3
   },
   "file_extension": ".py",
   "mimetype": "text/x-python",
   "name": "python",
   "nbconvert_exporter": "python",
   "pygments_lexer": "ipython3",
   "version": "3.10.0"
  }
 },
 "nbformat": 4,
 "nbformat_minor": 5
}