{
 "cells": [
  {
   "cell_type": "markdown",
   "id": "f422c539",
   "metadata": {},
   "source": [
    "# Conditionals\n",
    "\n",
    "Conditionals are used to choose between different statements. The ```if``` statement is what Python provides for choosing between different statements. The Python documentation has more information in [if](https://docs.python.org/3/reference/compound_stmts.html#if).\n",
    "\n",
    "Here are some examples. "
   ]
  },
  {
   "cell_type": "code",
   "execution_count": 1,
   "id": "0c04b903",
   "metadata": {},
   "outputs": [],
   "source": [
    "# We want to simulate flipping a coin.\n",
    "# We start by importing random:\n",
    "\n",
    "import random"
   ]
  },
  {
   "cell_type": "code",
   "execution_count": 2,
   "id": "e529c9f3",
   "metadata": {},
   "outputs": [
    {
     "name": "stdout",
     "output_type": "stream",
     "text": [
      "TAILS\n"
     ]
    }
   ],
   "source": [
    "if random.randrange(0,2) == 0: print('HEADS')\n",
    "else                         : print('TAILS')"
   ]
  },
  {
   "cell_type": "code",
   "execution_count": 3,
   "id": "e1129da4",
   "metadata": {},
   "outputs": [
    {
     "name": "stdout",
     "output_type": "stream",
     "text": [
      "STANDING\n"
     ]
    }
   ],
   "source": [
    "# We assign to val before testing because every time we use the\n",
    "# expression random.random() we get a new value!\n",
    "\n",
    "val = random.random()\n",
    "# 4 tenths of the times heads, 4 tenths of the times tails\n",
    "# 2 tenths of the times standing\n",
    "if   val < 0.4 : print('HEADS')\n",
    "elif val < 0.8 : print('TAILS')\n",
    "else          : print('STANDING')"
   ]
  },
  {
   "cell_type": "code",
   "execution_count": null,
   "id": "0e0bb269",
   "metadata": {},
   "outputs": [],
   "source": []
  }
 ],
 "metadata": {
  "kernelspec": {
   "display_name": "Python 3",
   "language": "python",
   "name": "python3"
  },
  "language_info": {
   "codemirror_mode": {
    "name": "ipython",
    "version": 3
   },
   "file_extension": ".py",
   "mimetype": "text/x-python",
   "name": "python",
   "nbconvert_exporter": "python",
   "pygments_lexer": "ipython3",
   "version": "3.10.0"
  }
 },
 "nbformat": 4,
 "nbformat_minor": 5
}