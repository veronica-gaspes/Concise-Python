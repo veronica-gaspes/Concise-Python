{
 "cells": [
  {
   "cell_type": "markdown",
   "id": "bc7d0c91",
   "metadata": {},
   "source": [
    "# Defining classes\n",
    "\n",
    "Classes are the mechanism Python has for defining new data types. In a class we collect all the methods for the new data type. Methods are defined as functions. They all have an extra argument for the object on which they work on and they can all use instance variables (as well as the arguments and local variables). \n",
    "\n",
    "Here we provide a couple of examples. We start with the type for counters: a counter can be created, incremented and read. The explanations come after each of the program parts."
   ]
  },
  {
   "cell_type": "code",
   "execution_count": 1,
   "id": "e7e70cda",
   "metadata": {},
   "outputs": [],
   "source": [
    "class Counter:\n",
    "    def __init__(self):\n",
    "        self._value = 0\n",
    "        \n",
    "    def inc(self):\n",
    "        self._value += 1\n",
    "        \n",
    "    def read(self):\n",
    "        return self._value"
   ]
  },
  {
   "cell_type": "markdown",
   "id": "1cc3a5b1",
   "metadata": {},
   "source": [
    "Notice the use of ```class Counter:``` that starts the definition: all that comes indented after the ```:``` is the definition of the class. \n",
    "\n",
    "When you define a class you have a new data type (before this definition there was no data type for counters, now there is!). \n",
    "\n",
    "But there are no literals! Instead you need to use the name of the class to create an object of this type. And the code that gets called is the function called ```__init__``` that has to have at least one argument for the object that gets constructed.  This function will not be used outside the class but needs to be there to be used. \n",
    "\n",
    "Here you see how to create an object of type ```Counter```. What you see as a value is a way of presenting a reference (pointer) to the object."
   ]
  },
  {
   "cell_type": "code",
   "execution_count": 2,
   "id": "a0132e2c",
   "metadata": {},
   "outputs": [
    {
     "data": {
      "text/plain": [
       "<__main__.Counter at 0x7fe7eadfadd0>"
      ]
     },
     "execution_count": 2,
     "metadata": {},
     "output_type": "execute_result"
    }
   ],
   "source": [
    "Counter()"
   ]
  },
  {
   "cell_type": "markdown",
   "id": "b74e57e5",
   "metadata": {},
   "source": [
    "If we want to use an object of type ```Counter``` we need to assign the object we create to a variable and then use this variable: otherwise, every time we use ```Counter()``` we create a new object!"
   ]
  },
  {
   "cell_type": "code",
   "execution_count": 3,
   "id": "9e31abe1",
   "metadata": {},
   "outputs": [
    {
     "data": {
      "text/plain": [
       "<__main__.Counter at 0x7fe7eadfac50>"
      ]
     },
     "execution_count": 3,
     "metadata": {},
     "output_type": "execute_result"
    }
   ],
   "source": [
    "c = Counter()\n",
    "c"
   ]
  },
  {
   "cell_type": "code",
   "execution_count": 4,
   "id": "c8a70e80",
   "metadata": {},
   "outputs": [
    {
     "name": "stdout",
     "output_type": "stream",
     "text": [
      "<__main__.Counter object at 0x7fe7eadfac50>\n"
     ]
    }
   ],
   "source": [
    "print(c)"
   ]
  },
  {
   "cell_type": "markdown",
   "id": "37a70dc1",
   "metadata": {},
   "source": [
    "Now we can use ```c```:"
   ]
  },
  {
   "cell_type": "code",
   "execution_count": 5,
   "id": "2ae255c5",
   "metadata": {},
   "outputs": [
    {
     "name": "stdout",
     "output_type": "stream",
     "text": [
      "0\n",
      "1\n",
      "2\n"
     ]
    }
   ],
   "source": [
    "print(c.read())\n",
    "c.inc()\n",
    "print(c.read())\n",
    "c.inc()\n",
    "print(c.read())"
   ]
  },
  {
   "cell_type": "markdown",
   "id": "41a956ab",
   "metadata": {},
   "source": [
    "In the definition of the class you can see that both ```__init__``` and the methods for incrementing and reading use a variable called ```_value```. You could have given this value any name. It is a so called instance variable and every object that you create has its own ```_value```. A convention in Python is that variables that should only be used in the definition of the class are named with an underscore at the start.  \n",
    "\n",
    "In the example below we create a new Counter and do some operations to illustrate the fact that each of them has its own instance variable."
   ]
  },
  {
   "cell_type": "code",
   "execution_count": 6,
   "id": "f3f9954f",
   "metadata": {},
   "outputs": [
    {
     "name": "stdout",
     "output_type": "stream",
     "text": [
      "2 0\n",
      "2 1\n",
      "3 1\n"
     ]
    }
   ],
   "source": [
    "d = Counter()\n",
    "print(c.read(), d.read())\n",
    "d.inc()\n",
    "print(c.read(),d.read())\n",
    "c.inc()\n",
    "print(c.read(), d.read())"
   ]
  },
  {
   "cell_type": "markdown",
   "id": "6ffb3dd6",
   "metadata": {},
   "source": [
    "We redefine the class counter so that we can create a Counter starting with a given value and we add a method for reset. We also define the method ```__str__``` to generate a string version of the Counter."
   ]
  },
  {
   "cell_type": "code",
   "execution_count": 7,
   "id": "39e4a6f1",
   "metadata": {},
   "outputs": [],
   "source": [
    "class Counter:\n",
    "    def __init__(self, start = 0):\n",
    "        self._value = start\n",
    "        \n",
    "    def inc(self, increment = 1):\n",
    "        self._value += increment\n",
    "        \n",
    "    def read(self):\n",
    "        return self._value\n",
    "\n",
    "    def reset(self):\n",
    "        self._value = 0\n",
    "        \n",
    "    def __str__(self):\n",
    "        return 'Counter with value ' + str(self._value)"
   ]
  },
  {
   "cell_type": "code",
   "execution_count": 8,
   "id": "0f36b725",
   "metadata": {},
   "outputs": [
    {
     "name": "stdout",
     "output_type": "stream",
     "text": [
      "Counter with value 10\n"
     ]
    }
   ],
   "source": [
    "c = Counter(10)\n",
    "print(c) # print  uses __str__!"
   ]
  },
  {
   "cell_type": "code",
   "execution_count": 9,
   "id": "da98cc6d",
   "metadata": {},
   "outputs": [
    {
     "name": "stdout",
     "output_type": "stream",
     "text": [
      "Counter with value 0\n"
     ]
    }
   ],
   "source": [
    "c.reset()\n",
    "print(c)"
   ]
  },
  {
   "cell_type": "code",
   "execution_count": 10,
   "id": "9ab9117a",
   "metadata": {},
   "outputs": [
    {
     "name": "stdout",
     "output_type": "stream",
     "text": [
      "Counter with value 3\n"
     ]
    }
   ],
   "source": [
    "c.inc(3)\n",
    "print(c)"
   ]
  },
  {
   "cell_type": "code",
   "execution_count": 11,
   "id": "46ef4786",
   "metadata": {},
   "outputs": [
    {
     "name": "stdout",
     "output_type": "stream",
     "text": [
      "Counter with value 0\n"
     ]
    }
   ],
   "source": [
    "d = Counter() # the argument for the constructor has a default value \n",
    "              # for start! \n",
    "print(d)"
   ]
  },
  {
   "cell_type": "code",
   "execution_count": null,
   "id": "71a2d66c",
   "metadata": {},
   "outputs": [],
   "source": []
  }
 ],
 "metadata": {
  "kernelspec": {
   "display_name": "Python 3 (ipykernel)",
   "language": "python",
   "name": "python3"
  },
  "language_info": {
   "codemirror_mode": {
    "name": "ipython",
    "version": 3
   },
   "file_extension": ".py",
   "mimetype": "text/x-python",
   "name": "python",
   "nbconvert_exporter": "python",
   "pygments_lexer": "ipython3",
   "version": "3.10.0"
  }
 },
 "nbformat": 4,
 "nbformat_minor": 5
}