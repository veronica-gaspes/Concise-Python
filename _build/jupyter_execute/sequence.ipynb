{
 "cells": [
  {
   "cell_type": "markdown",
   "id": "fd8f73dd",
   "metadata": {},
   "source": [
    "# Sequence\n",
    "\n",
    "We now start looking at how we can put together commands to build programs.\n",
    "\n",
    "The first way of puting together commands is in a sequence. In Python you do this by writing the commands in consecutive lines. \n",
    "\n",
    "A sequence of commands executes the commands one after the other, accumulating the changes. \n",
    "\n",
    "Here are some examples:"
   ]
  },
  {
   "cell_type": "code",
   "execution_count": 1,
   "id": "171e5863",
   "metadata": {},
   "outputs": [
    {
     "data": {
      "text/plain": [
       "25"
      ]
     },
     "execution_count": 1,
     "metadata": {},
     "output_type": "execute_result"
    }
   ],
   "source": [
    "x = 0\n",
    "x += 1\n",
    "x *= 10\n",
    "x //= 2\n",
    "x **= 2\n",
    "x"
   ]
  },
  {
   "cell_type": "markdown",
   "id": "42dc9f60",
   "metadata": {},
   "source": [
    "## Writing to standard output\n",
    "\n",
    "We take the opportunity to introduce a command for writing values to standard output. \n",
    "\n",
    "In the example notice that the command ```print(x)``` that we use several times, writes different values to standard output. It uses the value of ```x``` at the point where the command is executed, an we change the value of ```x``` with assignments."
   ]
  },
  {
   "cell_type": "code",
   "execution_count": 2,
   "id": "9d2c2f35",
   "metadata": {},
   "outputs": [
    {
     "name": "stdout",
     "output_type": "stream",
     "text": [
      "0\n",
      "1\n",
      "10\n",
      "5\n",
      "25\n"
     ]
    }
   ],
   "source": [
    "x = 0\n",
    "print(x)\n",
    "x += 1\n",
    "print(x)\n",
    "x *= 10\n",
    "print(x)\n",
    "x //= 2\n",
    "print(x)\n",
    "x **= 2\n",
    "print(x)"
   ]
  },
  {
   "cell_type": "markdown",
   "id": "cf8e1389",
   "metadata": {},
   "source": [
    "The ```print``` command can be configured by including what the last string should be. As it is, the last string is a new line character.\n",
    "\n",
    "Here we configure it so that it uses a comma and a white space:\n"
   ]
  },
  {
   "cell_type": "code",
   "execution_count": 3,
   "id": "6500ad99",
   "metadata": {},
   "outputs": [
    {
     "name": "stdout",
     "output_type": "stream",
     "text": [
      "0, 1, 10, 5, 25\n"
     ]
    }
   ],
   "source": [
    "x = 0\n",
    "print(x, end = ', ')\n",
    "x += 1\n",
    "print(x, end = ', ')\n",
    "x *= 10\n",
    "print(x, end = ', ')\n",
    "x //= 2\n",
    "print(x, end = ', ')\n",
    "x **= 2\n",
    "print(x)"
   ]
  }
 ],
 "metadata": {
  "kernelspec": {
   "display_name": "Python 3 (ipykernel)",
   "language": "python",
   "name": "python3"
  },
  "language_info": {
   "codemirror_mode": {
    "name": "ipython",
    "version": 3
   },
   "file_extension": ".py",
   "mimetype": "text/x-python",
   "name": "python",
   "nbconvert_exporter": "python",
   "pygments_lexer": "ipython3",
   "version": "3.10.0"
  }
 },
 "nbformat": 4,
 "nbformat_minor": 5
}