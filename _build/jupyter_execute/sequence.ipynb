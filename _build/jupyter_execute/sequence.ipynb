{
 "cells": [
  {
   "cell_type": "markdown",
   "id": "4c007858",
   "metadata": {},
   "source": [
    "# Sequence\n",
    "\n",
    "We now start looking at how we can put together statements to build programs.\n",
    "\n",
    "The first way of puting together statements is in a sequence. In Python you do this by writing the statements in consecutive lines. \n",
    "\n",
    "A sequence of statements is executed by executing the statements one after the other, accumulating the changes. \n",
    "\n",
    "Here are some examples:"
   ]
  },
  {
   "cell_type": "code",
   "execution_count": 1,
   "id": "ac2b83b7",
   "metadata": {},
   "outputs": [
    {
     "data": {
      "text/plain": [
       "25"
      ]
     },
     "execution_count": 1,
     "metadata": {},
     "output_type": "execute_result"
    }
   ],
   "source": [
    "x = 0\n",
    "x += 1\n",
    "x *= 10\n",
    "x //= 2\n",
    "x **= 2\n",
    "x"
   ]
  },
  {
   "cell_type": "markdown",
   "id": "b65cc90b",
   "metadata": {},
   "source": [
    "## Writing to standard output\n",
    "\n",
    "We take the opportunity to introduce a statement for writing values to standard output. \n",
    "\n",
    "In the example notice that the statement ```print(x)``` that we use several times, writes different values to standard output. It uses the value of ```x``` at the point where the statement is executed, an we change the value of ```x``` with assignments."
   ]
  },
  {
   "cell_type": "code",
   "execution_count": 2,
   "id": "46e8c035",
   "metadata": {},
   "outputs": [
    {
     "name": "stdout",
     "output_type": "stream",
     "text": [
      "0\n",
      "1\n",
      "10\n",
      "5\n",
      "25\n"
     ]
    }
   ],
   "source": [
    "x = 0\n",
    "print(x)\n",
    "x += 1\n",
    "print(x)\n",
    "x *= 10\n",
    "print(x)\n",
    "x //= 2\n",
    "print(x)\n",
    "x **= 2\n",
    "print(x)"
   ]
  },
  {
   "cell_type": "markdown",
   "id": "9b32d54b",
   "metadata": {},
   "source": [
    "The ```print``` statement can be configured by including what the last string should be. As it is, the last string is a new line character.\n",
    "\n",
    "Here we configure it so that it uses a comma and a white space:\n"
   ]
  },
  {
   "cell_type": "code",
   "execution_count": 3,
   "id": "49ef8c44",
   "metadata": {},
   "outputs": [
    {
     "name": "stdout",
     "output_type": "stream",
     "text": [
      "0, 1, 10, 5, 25\n"
     ]
    }
   ],
   "source": [
    "x = 0\n",
    "print(x, end = ', ')\n",
    "x += 1\n",
    "print(x, end = ', ')\n",
    "x *= 10\n",
    "print(x, end = ', ')\n",
    "x //= 2\n",
    "print(x, end = ', ')\n",
    "x **= 2\n",
    "print(x)"
   ]
  }
 ],
 "metadata": {
  "kernelspec": {
   "display_name": "Python 3",
   "language": "python",
   "name": "python3"
  },
  "language_info": {
   "codemirror_mode": {
    "name": "ipython",
    "version": 3
   },
   "file_extension": ".py",
   "mimetype": "text/x-python",
   "name": "python",
   "nbconvert_exporter": "python",
   "pygments_lexer": "ipython3",
   "version": "3.10.0"
  }
 },
 "nbformat": 4,
 "nbformat_minor": 5
}