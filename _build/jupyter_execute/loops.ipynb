{
 "cells": [
  {
   "cell_type": "markdown",
   "id": "25a7f5ff",
   "metadata": {},
   "source": [
    "# Loops\n",
    "\n",
    "Loops allow us to repeat a command. We will look at two ways of building loops: ```for``` statements and ```while``` statements. The Python documentation has details in [the for statement](https://docs.python.org/3/reference/compound_stmts.html#the-for-statement) and [the while statement](https://docs.python.org/3/reference/compound_stmts.html#the-while-statement).\n",
    "\n",
    "## The ```for``` statement\n",
    "\n",
    "This statement can be used when a given command has to be executed **a given number of times** (instead of **while a condition holds**)\n",
    "\n",
    "Here are some examples. \n",
    "\n",
    "We want you to notice 2 things:\n",
    "\n",
    "* the command (statement) that is repeated has to be written after the ```:``` and indented.\n",
    "\n",
    "* the command (statement) that is repeated can be formed using all ways of building commands: assignments, sequence, conditionals and other loops!"
   ]
  },
  {
   "cell_type": "code",
   "execution_count": 1,
   "id": "d7d7a8f9",
   "metadata": {},
   "outputs": [
    {
     "name": "stdout",
     "output_type": "stream",
     "text": [
      "0 1 2 3 4 5 6 7 8 9 "
     ]
    }
   ],
   "source": [
    "# Observe the indentation of print.\n",
    "\n",
    "for x in range(10):\n",
    "    print(x, end = ' ')"
   ]
  },
  {
   "cell_type": "code",
   "execution_count": 2,
   "id": "c1d01d5c",
   "metadata": {},
   "outputs": [],
   "source": [
    "import random"
   ]
  },
  {
   "cell_type": "code",
   "execution_count": 3,
   "id": "0553b156",
   "metadata": {},
   "outputs": [
    {
     "name": "stdout",
     "output_type": "stream",
     "text": [
      "HEADS\n",
      "HEADS\n",
      "HEADS\n",
      "HEADS\n",
      "STANDING\n",
      "TAILS\n",
      "STANDING\n",
      "HEADS\n",
      "HEADS\n",
      "HEADS\n"
     ]
    }
   ],
   "source": [
    "# Ten experiments of flipping a coin.\n",
    "# Notice that each of the 10 times a sequence of\n",
    "# an assignment and a conditional is executed.\n",
    "\n",
    "for x in range(10):\n",
    "    \n",
    "    val = random.random()\n",
    "    # 4 tenths of the times heads, 4 tenths of the times tails\n",
    "    # 2 tenths of the times standing\n",
    "    if   val < 0.4 : print('HEADS')\n",
    "    elif val < 0.8 : print('TAILS')\n",
    "    else           : print('STANDING')"
   ]
  },
  {
   "cell_type": "markdown",
   "id": "14759221",
   "metadata": {},
   "source": [
    "For larger experiments we do not want to print the result of the experiment but instead we might want to count.\n",
    "\n",
    "In the example notice that printing is done **after the for loop is done**. Indentation is important: if we had written the print statements with the same indentation as the if statement we would see 10000 outputs!\n",
    "\n",
    "The program is a sequence of 3 assignments, a for loop and three print statements. In the for loop we also have a sequence: an assignment and an if statement."
   ]
  },
  {
   "cell_type": "code",
   "execution_count": 4,
   "id": "c3c9e2a5",
   "metadata": {},
   "outputs": [
    {
     "name": "stdout",
     "output_type": "stream",
     "text": [
      "Heads:  4827\n",
      "Tails:  4977\n",
      "Standing:  196\n"
     ]
    }
   ],
   "source": [
    "# 10000 experiments\n",
    "\n",
    "heads = 0\n",
    "tails = 0\n",
    "standing = 0\n",
    "for x in range(10000):\n",
    "    val = random.random()\n",
    "    # 49 hundredths of the times heads, 49 hundredths of the times tails\n",
    "    # 2 hundredths of the times standing\n",
    "    if   val < 0.49 : heads += 1\n",
    "    elif val < 0.98 : tails += 1\n",
    "    else            : standing += 1\n",
    "print('Heads: ', heads)\n",
    "print('Tails: ', tails)\n",
    "print('Standing: ', standing)"
   ]
  },
  {
   "cell_type": "markdown",
   "id": "582604fd",
   "metadata": {},
   "source": [
    "In the following example we use a sequence of a for-loop and a print as the command that has to be repeated 5 times. The print is there to introduce a new line. "
   ]
  },
  {
   "cell_type": "code",
   "execution_count": 5,
   "id": "7ed40714",
   "metadata": {},
   "outputs": [
    {
     "name": "stdout",
     "output_type": "stream",
     "text": [
      "( 0 ,  0 ) ( 0 ,  1 ) ( 0 ,  2 ) ( 0 ,  3 ) ( 0 ,  4 ) \n",
      "( 1 ,  1 ) ( 1 ,  2 ) ( 1 ,  3 ) ( 1 ,  4 ) \n",
      "( 2 ,  2 ) ( 2 ,  3 ) ( 2 ,  4 ) \n",
      "( 3 ,  3 ) ( 3 ,  4 ) \n",
      "( 4 ,  4 ) \n"
     ]
    }
   ],
   "source": [
    "for x in range(5):\n",
    "    for y in range(x, 5):\n",
    "        print('(', x, ', ', y, ')' ,  end = ' ')\n",
    "    print()"
   ]
  },
  {
   "cell_type": "markdown",
   "id": "47615a7e",
   "metadata": {},
   "source": [
    "As you can see, the parts that are printed get separated by a white space. We can also configure this, for example to say that there should be no space:"
   ]
  },
  {
   "cell_type": "code",
   "execution_count": 6,
   "id": "758d866e",
   "metadata": {},
   "outputs": [
    {
     "name": "stdout",
     "output_type": "stream",
     "text": [
      "(0, 0) (0, 1) (0, 2) (0, 3) (0, 4) \n",
      "(1, 1) (1, 2) (1, 3) (1, 4) \n",
      "(2, 2) (2, 3) (2, 4) \n",
      "(3, 3) (3, 4) \n",
      "(4, 4) \n"
     ]
    }
   ],
   "source": [
    "for x in range(5):\n",
    "    for y in range(x, 5):\n",
    "        print('(', x, ', ', y, ')' , sep = '',  end = ' ')\n",
    "    print()"
   ]
  },
  {
   "cell_type": "markdown",
   "id": "2695b098",
   "metadata": {},
   "source": [
    "## The ```while``` statement\n",
    "\n",
    "This statement can be used when a given command has to be executed **as long as a condition holds**.\n",
    "\n",
    "Here are some examples. \n",
    "\n",
    "We want you to notice 2 things:\n",
    "\n",
    "* the command that is repeated has to be written after the ```:``` and indented.\n",
    "\n",
    "* the command that is repeated can be formed using all ways of building commands: assignments, sequence, conditionals and other loops!\n",
    "\n",
    "The first example is a sequence of an assignment, a print command and a while statement. The command to be repeated (after the : and indented) will be executed as long as the value of n is larger than 1 (when the value of n becomes 1 or less the while loop will terminate). This command that is repetated is a sequence of an if statement and a print command. Observe that each turn of the loop modifies n, though not always to a smaller value! It is unclear whether the loop terminates for any possible value of n! You can check [the Collatz conjecture](https://en.wikipedia.org/wiki/Collatz_conjecture)."
   ]
  },
  {
   "cell_type": "code",
   "execution_count": 7,
   "id": "1927e75c",
   "metadata": {},
   "outputs": [
    {
     "name": "stdout",
     "output_type": "stream",
     "text": [
      "11\n",
      "34\n",
      "17\n",
      "52\n",
      "26\n",
      "13\n",
      "40\n",
      "20\n",
      "10\n",
      "5\n",
      "16\n",
      "8\n",
      "4\n",
      "2\n",
      "1\n"
     ]
    }
   ],
   "source": [
    "n = random.randrange(1,50)\n",
    "print(n)\n",
    "while n > 1:\n",
    "    if n % 2 == 0: n = n // 2    # if n is even, divide it by 2\n",
    "    else         : n = 3 * n + 1 # if n is odd, multiply it by 3 and add 1\n",
    "    print(n)"
   ]
  },
  {
   "cell_type": "code",
   "execution_count": null,
   "id": "1f3b7cde",
   "metadata": {},
   "outputs": [],
   "source": []
  }
 ],
 "metadata": {
  "kernelspec": {
   "display_name": "Python 3",
   "language": "python",
   "name": "python3"
  },
  "language_info": {
   "codemirror_mode": {
    "name": "ipython",
    "version": 3
   },
   "file_extension": ".py",
   "mimetype": "text/x-python",
   "name": "python",
   "nbconvert_exporter": "python",
   "pygments_lexer": "ipython3",
   "version": "3.10.0"
  }
 },
 "nbformat": 4,
 "nbformat_minor": 5
}