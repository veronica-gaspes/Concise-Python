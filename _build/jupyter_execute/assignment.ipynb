{
 "cells": [
  {
   "cell_type": "markdown",
   "id": "0d422751",
   "metadata": {},
   "source": [
    "# Assignment\n",
    "\n",
    "An assignment statement is a command to replace the value stored in a variable with a value specified as an expression. In Python variables are introduced wherever you need them, there is no need to declare them or state what type of values they can store. Here follow some examples of assignments. "
   ]
  },
  {
   "cell_type": "code",
   "execution_count": 1,
   "id": "5571431d",
   "metadata": {},
   "outputs": [],
   "source": [
    "x = 2 ** 32"
   ]
  },
  {
   "cell_type": "markdown",
   "id": "cf49a603",
   "metadata": {},
   "source": [
    "As you can see, when we use this code there is no result! In fact, most statements do not have a value. We will see later that in Python there are statements that aslo calculate a value. \n",
    "\n",
    "In order to see what has happened we need to use ```x```.\n",
    "\n",
    "By the way, variables can also be used in expressions. When we use a variable in an expression, it is its current value that contributes to the value of the expression."
   ]
  },
  {
   "cell_type": "code",
   "execution_count": 2,
   "id": "baa8bb12",
   "metadata": {},
   "outputs": [
    {
     "data": {
      "text/plain": [
       "4294967296"
      ]
     },
     "execution_count": 2,
     "metadata": {},
     "output_type": "execute_result"
    }
   ],
   "source": [
    "x"
   ]
  },
  {
   "cell_type": "code",
   "execution_count": 3,
   "id": "7f8ac0c0",
   "metadata": {},
   "outputs": [],
   "source": [
    "x = 3"
   ]
  },
  {
   "cell_type": "code",
   "execution_count": 4,
   "id": "3f1e503c",
   "metadata": {},
   "outputs": [
    {
     "data": {
      "text/plain": [
       "3"
      ]
     },
     "execution_count": 4,
     "metadata": {},
     "output_type": "execute_result"
    }
   ],
   "source": [
    "x"
   ]
  },
  {
   "cell_type": "markdown",
   "id": "4feb09cb",
   "metadata": {},
   "source": [
    "In the next assignment to ```x``` we use the value of ```x``` before the assignment in the expression used to calculate the value we will assign. \n",
    "\n",
    "Make sure that you understand that when the value of the expression \n",
    "\n",
    "```x + 2 ** 4```\n",
    "\n",
    "is calculated, the value stored in ```x``` is ```3```. "
   ]
  },
  {
   "cell_type": "code",
   "execution_count": 5,
   "id": "99246942",
   "metadata": {},
   "outputs": [
    {
     "data": {
      "text/plain": [
       "19"
      ]
     },
     "execution_count": 5,
     "metadata": {},
     "output_type": "execute_result"
    }
   ],
   "source": [
    "x = x + 2 ** 4\n",
    "x"
   ]
  },
  {
   "cell_type": "markdown",
   "id": "4fc0bd59",
   "metadata": {},
   "source": [
    "## Quiz\n",
    "\n",
    "What happens if you run the code from the previous cell again? Can you explain what happened?"
   ]
  },
  {
   "cell_type": "markdown",
   "id": "76776200",
   "metadata": {},
   "source": [
    "## Abbreviations\n",
    "\n",
    "While we are at assignments of integer values, you should know that there are some abbreviations for assignments where the expression to the right is just a binary operation involving the variable as one of the operands.\n",
    "\n",
    "For example, to increment the value of a variable with ```1``` you would write\n",
    "\n",
    "```x = x + 1 ```\n",
    "\n",
    "There is an abbreviation for this:\n",
    "\n",
    "```x += 1```\n",
    "\n",
    "where we use ```+=``` instead of ```=```. Then we avoid writing the ```x``` in the expression to the right!\n",
    "\n",
    "Here are some more examples:"
   ]
  },
  {
   "cell_type": "code",
   "execution_count": 6,
   "id": "423fc8d6",
   "metadata": {},
   "outputs": [
    {
     "data": {
      "text/plain": [
       "0"
      ]
     },
     "execution_count": 6,
     "metadata": {},
     "output_type": "execute_result"
    }
   ],
   "source": [
    "z = 0\n",
    "z"
   ]
  },
  {
   "cell_type": "code",
   "execution_count": 7,
   "id": "958d26c1",
   "metadata": {},
   "outputs": [
    {
     "data": {
      "text/plain": [
       "1"
      ]
     },
     "execution_count": 7,
     "metadata": {},
     "output_type": "execute_result"
    }
   ],
   "source": [
    "z += 1\n",
    "z"
   ]
  },
  {
   "cell_type": "code",
   "execution_count": 8,
   "id": "d410dfe7",
   "metadata": {},
   "outputs": [
    {
     "data": {
      "text/plain": [
       "10"
      ]
     },
     "execution_count": 8,
     "metadata": {},
     "output_type": "execute_result"
    }
   ],
   "source": [
    "z *= 10\n",
    "z"
   ]
  },
  {
   "cell_type": "code",
   "execution_count": 9,
   "id": "b3ee473e",
   "metadata": {},
   "outputs": [
    {
     "data": {
      "text/plain": [
       "5.0"
      ]
     },
     "execution_count": 9,
     "metadata": {},
     "output_type": "execute_result"
    }
   ],
   "source": [
    "z /= 2\n",
    "z"
   ]
  },
  {
   "cell_type": "code",
   "execution_count": 10,
   "id": "c171475f",
   "metadata": {},
   "outputs": [
    {
     "data": {
      "text/plain": [
       "25.0"
      ]
     },
     "execution_count": 10,
     "metadata": {},
     "output_type": "execute_result"
    }
   ],
   "source": [
    "z **= 2\n",
    "z"
   ]
  },
  {
   "cell_type": "markdown",
   "id": "4b4b1b7e",
   "metadata": {},
   "source": [
    "## Quiz\n",
    "   \n",
    "If you have a variable, say ```x_0```\n",
    "\n",
    "*(yes, identifiers can use an underscore _ and numbers in them! They can even start with an underscore (but not with a number)!)*\n",
    "\n",
    "and say you want to modify the value stord in the variable so that is it the double of the value currently stored in the variable. What assignment abbreviation would you use? "
   ]
  },
  {
   "cell_type": "markdown",
   "id": "c0f5134f",
   "metadata": {},
   "source": [
    "## Swapping values\n",
    "\n",
    "You can swap the values stored in two variables doing the two assignments in one:\n",
    "\n",
    "```a, b = b, a```\n",
    "\n",
    "For example:"
   ]
  },
  {
   "cell_type": "code",
   "execution_count": 11,
   "id": "7a243e16",
   "metadata": {},
   "outputs": [
    {
     "data": {
      "text/plain": [
       "10"
      ]
     },
     "execution_count": 11,
     "metadata": {},
     "output_type": "execute_result"
    }
   ],
   "source": [
    "a = 10\n",
    "a"
   ]
  },
  {
   "cell_type": "code",
   "execution_count": 12,
   "id": "a4c1e556",
   "metadata": {},
   "outputs": [
    {
     "data": {
      "text/plain": [
       "20"
      ]
     },
     "execution_count": 12,
     "metadata": {},
     "output_type": "execute_result"
    }
   ],
   "source": [
    "b = 20\n",
    "b"
   ]
  },
  {
   "cell_type": "code",
   "execution_count": 13,
   "id": "03aa641d",
   "metadata": {},
   "outputs": [
    {
     "data": {
      "text/plain": [
       "(20, 10)"
      ]
     },
     "execution_count": 13,
     "metadata": {},
     "output_type": "execute_result"
    }
   ],
   "source": [
    "a,b = b,a\n",
    "\n",
    "(a,b)"
   ]
  },
  {
   "cell_type": "markdown",
   "id": "95d9edc6",
   "metadata": {},
   "source": [
    "## Assignments and lists\n",
    " \n",
    "You can use variables to store values of any type. Here are some examples with strings and lists."
   ]
  },
  {
   "cell_type": "code",
   "execution_count": 14,
   "id": "6b8f7b16",
   "metadata": {},
   "outputs": [],
   "source": [
    "sentence = 'Hi, there!'"
   ]
  },
  {
   "cell_type": "code",
   "execution_count": 15,
   "id": "c5c3fd95",
   "metadata": {},
   "outputs": [],
   "source": [
    "small_cubes = [x ** 3 for x in range(10)]"
   ]
  },
  {
   "cell_type": "code",
   "execution_count": 16,
   "id": "fc9f32cd",
   "metadata": {},
   "outputs": [
    {
     "data": {
      "text/plain": [
       "('Hi, there!', [0, 1, 8, 27, 64, 125, 216, 343, 512, 729])"
      ]
     },
     "execution_count": 16,
     "metadata": {},
     "output_type": "execute_result"
    }
   ],
   "source": [
    "(sentence, small_cubes)"
   ]
  },
  {
   "cell_type": "markdown",
   "id": "aa99be80",
   "metadata": {},
   "source": [
    "There are two things we want you to be aware of regarding variables that store **lists**. \n",
    "\n",
    "First, the places (positions) in a **list**  are also variables that can be assigned to. \n",
    "\n",
    "Here are some examples:"
   ]
  },
  {
   "cell_type": "code",
   "execution_count": 17,
   "id": "adfe3bdc",
   "metadata": {},
   "outputs": [
    {
     "data": {
      "text/plain": [
       "[0, 1, 8, 27, 64, 125, 216, 343, 512, 0]"
      ]
     },
     "execution_count": 17,
     "metadata": {},
     "output_type": "execute_result"
    }
   ],
   "source": [
    "small_cubes[-1] = 0\n",
    "small_cubes"
   ]
  },
  {
   "cell_type": "code",
   "execution_count": 18,
   "id": "708ae55b",
   "metadata": {},
   "outputs": [
    {
     "data": {
      "text/plain": [
       "[729, 1, 8, 27, 64, 125, 216, 343, 512, 0]"
      ]
     },
     "execution_count": 18,
     "metadata": {},
     "output_type": "execute_result"
    }
   ],
   "source": [
    "small_cubes[0] = 729\n",
    "small_cubes"
   ]
  },
  {
   "cell_type": "markdown",
   "id": "0f34b7ac",
   "metadata": {},
   "source": [
    "Second, look at what happens when we assign the value of an expression to a list:"
   ]
  },
  {
   "cell_type": "code",
   "execution_count": 19,
   "id": "49d33bc7",
   "metadata": {},
   "outputs": [
    {
     "data": {
      "text/plain": [
       "[1, 2, 3, 4]"
      ]
     },
     "execution_count": 19,
     "metadata": {},
     "output_type": "execute_result"
    }
   ],
   "source": [
    "a = [1,2,3,4]\n",
    "a"
   ]
  },
  {
   "cell_type": "code",
   "execution_count": 20,
   "id": "15c07ab4",
   "metadata": {},
   "outputs": [
    {
     "data": {
      "text/plain": [
       "[1, 2, 3, 4]"
      ]
     },
     "execution_count": 20,
     "metadata": {},
     "output_type": "execute_result"
    }
   ],
   "source": [
    "b = [1,2,3,4]\n",
    "b"
   ]
  },
  {
   "cell_type": "code",
   "execution_count": 21,
   "id": "23db2524",
   "metadata": {},
   "outputs": [
    {
     "data": {
      "text/plain": [
       "([-1, 2, 3, 4], [1, 2, 3, 4])"
      ]
     },
     "execution_count": 21,
     "metadata": {},
     "output_type": "execute_result"
    }
   ],
   "source": [
    "a[0] = -1\n",
    "(a,b)"
   ]
  },
  {
   "cell_type": "markdown",
   "id": "e21ddbe4",
   "metadata": {},
   "source": [
    "When we change\n",
    "```a```\n",
    "we do not change ```b``` (of course!)\n",
    "\n",
    "**BUT!** look at this:"
   ]
  },
  {
   "cell_type": "code",
   "execution_count": 22,
   "id": "242eee24",
   "metadata": {},
   "outputs": [
    {
     "data": {
      "text/plain": [
       "[1, 2, 3, 4]"
      ]
     },
     "execution_count": 22,
     "metadata": {},
     "output_type": "execute_result"
    }
   ],
   "source": [
    "c = [1,2,3,4]\n",
    "c"
   ]
  },
  {
   "cell_type": "code",
   "execution_count": 23,
   "id": "4e305178",
   "metadata": {},
   "outputs": [
    {
     "data": {
      "text/plain": [
       "[1, 2, 3, 4]"
      ]
     },
     "execution_count": 23,
     "metadata": {},
     "output_type": "execute_result"
    }
   ],
   "source": [
    "d = c\n",
    "d"
   ]
  },
  {
   "cell_type": "code",
   "execution_count": 24,
   "id": "c24867b3",
   "metadata": {},
   "outputs": [
    {
     "data": {
      "text/plain": [
       "([-1, 2, 3, 4], [-1, 2, 3, 4])"
      ]
     },
     "execution_count": 24,
     "metadata": {},
     "output_type": "execute_result"
    }
   ],
   "source": [
    "c[0] = -1\n",
    "(c,d)"
   ]
  },
  {
   "cell_type": "markdown",
   "id": "afb841bf",
   "metadata": {},
   "source": [
    "The assignment \n",
    "\n",
    "```d = c ```\n",
    "\n",
    "did not build another object to assign to ```d```, instead, both variables share the same object (the same list). That is why, when we change the list stored in ```c``` we see the change also when we use ```d```.\n",
    "\n",
    "Now lets look at one more thing:"
   ]
  },
  {
   "cell_type": "code",
   "execution_count": 25,
   "id": "975d1e78",
   "metadata": {},
   "outputs": [
    {
     "data": {
      "text/plain": [
       "([6, 7], [-1, 2, 3, 4])"
      ]
     },
     "execution_count": 25,
     "metadata": {},
     "output_type": "execute_result"
    }
   ],
   "source": [
    "c = [6,7]\n",
    "(c,d)"
   ]
  },
  {
   "cell_type": "markdown",
   "id": "08a29299",
   "metadata": {},
   "source": [
    "What we did now was to assign to ```c``` another object. ```d``` still stores the object that was assigned to it. "
   ]
  },
  {
   "cell_type": "markdown",
   "id": "510d905f",
   "metadata": {},
   "source": [
    "## Quiz\n",
    "\n",
    "Try modifying the string in  ```sentence```, for example:\n",
    "\n",
    "```sentence[-1] = '?'```\n",
    "\n",
    "You will get an error message. Do you understand it?"
   ]
  }
 ],
 "metadata": {
  "kernelspec": {
   "display_name": "Python 3",
   "language": "python",
   "name": "python3"
  },
  "language_info": {
   "codemirror_mode": {
    "name": "ipython",
    "version": 3
   },
   "file_extension": ".py",
   "mimetype": "text/x-python",
   "name": "python",
   "nbconvert_exporter": "python",
   "pygments_lexer": "ipython3",
   "version": "3.10.0"
  }
 },
 "nbformat": 4,
 "nbformat_minor": 5
}