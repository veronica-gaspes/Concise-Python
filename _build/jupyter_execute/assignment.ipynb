{
 "cells": [
  {
   "cell_type": "markdown",
   "id": "5bb430e6",
   "metadata": {},
   "source": [
    "# Assignment\n",
    "\n",
    "An assignment statement is a command to replace the value stored in a variable with a value specified as an expression. In Python variables are introduced wherever you need them, there is no need to declare them or state what type of values they can store. Here follow some examples of assignments. "
   ]
  },
  {
   "cell_type": "code",
   "execution_count": 1,
   "id": "6baeb9bd",
   "metadata": {},
   "outputs": [],
   "source": [
    "x = 2 ** 32"
   ]
  },
  {
   "cell_type": "markdown",
   "id": "a8f008ed",
   "metadata": {},
   "source": [
    "As you can see, when we use this code there is no result! In fact, most statements do not have a value. We will see later that in Python there are statements that aslo calculate a value. \n",
    "\n",
    "In order to see what has happened we need to use ```x```.\n",
    "\n",
    "By the way, variables can also be used in expressions. When we use a variable in an expression, it is its current value that contributes to the value of the expression."
   ]
  },
  {
   "cell_type": "code",
   "execution_count": 2,
   "id": "83c941cd",
   "metadata": {},
   "outputs": [
    {
     "data": {
      "text/plain": [
       "4294967296"
      ]
     },
     "execution_count": 2,
     "metadata": {},
     "output_type": "execute_result"
    }
   ],
   "source": [
    "x"
   ]
  },
  {
   "cell_type": "code",
   "execution_count": 3,
   "id": "832e29a8",
   "metadata": {},
   "outputs": [],
   "source": [
    "x = 3"
   ]
  },
  {
   "cell_type": "code",
   "execution_count": 4,
   "id": "9e9609da",
   "metadata": {},
   "outputs": [
    {
     "data": {
      "text/plain": [
       "3"
      ]
     },
     "execution_count": 4,
     "metadata": {},
     "output_type": "execute_result"
    }
   ],
   "source": [
    "x"
   ]
  },
  {
   "cell_type": "markdown",
   "id": "a38dbadd",
   "metadata": {},
   "source": [
    "In the next assignment to ```x``` we use the value of ```x``` before the assignment in the expression used to calculate the value we will assign. \n",
    "\n",
    "Make sure that you understand that when the value of the expression \n",
    "\n",
    "```x + 2 ** 4```\n",
    "\n",
    "is calculated, the value stored in ```x``` is ```3```. "
   ]
  },
  {
   "cell_type": "code",
   "execution_count": 5,
   "id": "4d976b8d",
   "metadata": {},
   "outputs": [
    {
     "data": {
      "text/plain": [
       "19"
      ]
     },
     "execution_count": 5,
     "metadata": {},
     "output_type": "execute_result"
    }
   ],
   "source": [
    "x = x + 2 ** 4\n",
    "x"
   ]
  },
  {
   "cell_type": "markdown",
   "id": "011f1a84",
   "metadata": {},
   "source": [
    "## Quiz\n",
    "\n",
    "What happens if you run the code from the previous cell again? Can you explain what happened?"
   ]
  },
  {
   "cell_type": "markdown",
   "id": "595c50a4",
   "metadata": {},
   "source": [
    "## Abbreviations\n",
    "\n",
    "While we are at assignments of integer values, you should know that there are some abbreviations for assignments where the expression to the right is just a binary operation involving the variable as one of the operands.\n",
    "\n",
    "For example, to increment the value of a variable with ```1``` you would write\n",
    "\n",
    "```x = x + 1 ```\n",
    "\n",
    "There is an abbreviation for this:\n",
    "\n",
    "```x += 1```\n",
    "\n",
    "where we use ```+=``` instead of ```=```. Then we avoid writing the ```x``` in the expression to the right!\n",
    "\n",
    "Here are some more examples:"
   ]
  },
  {
   "cell_type": "code",
   "execution_count": 6,
   "id": "4ae8f5eb",
   "metadata": {},
   "outputs": [
    {
     "data": {
      "text/plain": [
       "0"
      ]
     },
     "execution_count": 6,
     "metadata": {},
     "output_type": "execute_result"
    }
   ],
   "source": [
    "z = 0\n",
    "z"
   ]
  },
  {
   "cell_type": "code",
   "execution_count": 7,
   "id": "22010df1",
   "metadata": {},
   "outputs": [
    {
     "data": {
      "text/plain": [
       "1"
      ]
     },
     "execution_count": 7,
     "metadata": {},
     "output_type": "execute_result"
    }
   ],
   "source": [
    "z += 1\n",
    "z"
   ]
  },
  {
   "cell_type": "code",
   "execution_count": 8,
   "id": "8bbf63b2",
   "metadata": {},
   "outputs": [
    {
     "data": {
      "text/plain": [
       "10"
      ]
     },
     "execution_count": 8,
     "metadata": {},
     "output_type": "execute_result"
    }
   ],
   "source": [
    "z *= 10\n",
    "z"
   ]
  },
  {
   "cell_type": "code",
   "execution_count": 9,
   "id": "f5c284c1",
   "metadata": {},
   "outputs": [
    {
     "data": {
      "text/plain": [
       "5.0"
      ]
     },
     "execution_count": 9,
     "metadata": {},
     "output_type": "execute_result"
    }
   ],
   "source": [
    "z /= 2\n",
    "z"
   ]
  },
  {
   "cell_type": "code",
   "execution_count": 10,
   "id": "e090e001",
   "metadata": {},
   "outputs": [
    {
     "data": {
      "text/plain": [
       "25.0"
      ]
     },
     "execution_count": 10,
     "metadata": {},
     "output_type": "execute_result"
    }
   ],
   "source": [
    "z **= 2\n",
    "z"
   ]
  },
  {
   "cell_type": "markdown",
   "id": "0c6bed84",
   "metadata": {},
   "source": [
    "## Quiz\n",
    "   \n",
    "If you have a variable, say ```x_0```\n",
    "\n",
    "*(yes, identifiers can use an underscore _ and numbers in them! They can even start with an underscore (but not with a number)!)*\n",
    "\n",
    "and say you want to modify the value stored in the variable so that is it the double of the value currently stored in the variable. What assignment abbreviation would you use? "
   ]
  },
  {
   "cell_type": "markdown",
   "id": "3620384c",
   "metadata": {},
   "source": [
    "## Swapping values\n",
    "\n",
    "You can swap the values stored in two variables doing the two assignments in one:\n",
    "\n",
    "```a, b = b, a```\n",
    "\n",
    "For example:"
   ]
  },
  {
   "cell_type": "code",
   "execution_count": 11,
   "id": "05c3d961",
   "metadata": {},
   "outputs": [
    {
     "data": {
      "text/plain": [
       "10"
      ]
     },
     "execution_count": 11,
     "metadata": {},
     "output_type": "execute_result"
    }
   ],
   "source": [
    "a = 10\n",
    "a"
   ]
  },
  {
   "cell_type": "code",
   "execution_count": 12,
   "id": "3c9d4546",
   "metadata": {},
   "outputs": [
    {
     "data": {
      "text/plain": [
       "20"
      ]
     },
     "execution_count": 12,
     "metadata": {},
     "output_type": "execute_result"
    }
   ],
   "source": [
    "b = 20\n",
    "b"
   ]
  },
  {
   "cell_type": "code",
   "execution_count": 13,
   "id": "c6174585",
   "metadata": {},
   "outputs": [
    {
     "data": {
      "text/plain": [
       "(20, 10)"
      ]
     },
     "execution_count": 13,
     "metadata": {},
     "output_type": "execute_result"
    }
   ],
   "source": [
    "a,b = b,a\n",
    "\n",
    "(a,b)"
   ]
  },
  {
   "cell_type": "markdown",
   "id": "549fc922",
   "metadata": {},
   "source": [
    "## Assignments and lists\n",
    " \n",
    "You can use variables to store values of any type. Here are some examples with strings and lists."
   ]
  },
  {
   "cell_type": "code",
   "execution_count": 14,
   "id": "24a42c07",
   "metadata": {},
   "outputs": [],
   "source": [
    "sentence = 'Hi, there!'"
   ]
  },
  {
   "cell_type": "code",
   "execution_count": 15,
   "id": "fec16d3d",
   "metadata": {},
   "outputs": [],
   "source": [
    "small_cubes = [x ** 3 for x in range(10)]"
   ]
  },
  {
   "cell_type": "code",
   "execution_count": 16,
   "id": "cf422cd3",
   "metadata": {},
   "outputs": [
    {
     "data": {
      "text/plain": [
       "('Hi, there!', [0, 1, 8, 27, 64, 125, 216, 343, 512, 729])"
      ]
     },
     "execution_count": 16,
     "metadata": {},
     "output_type": "execute_result"
    }
   ],
   "source": [
    "(sentence, small_cubes)"
   ]
  },
  {
   "cell_type": "markdown",
   "id": "c1590f7b",
   "metadata": {},
   "source": [
    "There are two things we want you to be aware of regarding variables that store **lists**. \n",
    "\n",
    "First, the places (positions) in a **list**  are also variables that can be assigned to. \n",
    "\n",
    "Here are some examples:"
   ]
  },
  {
   "cell_type": "code",
   "execution_count": 17,
   "id": "e0cb9593",
   "metadata": {},
   "outputs": [
    {
     "data": {
      "text/plain": [
       "[0, 1, 8, 27, 64, 125, 216, 343, 512, 0]"
      ]
     },
     "execution_count": 17,
     "metadata": {},
     "output_type": "execute_result"
    }
   ],
   "source": [
    "small_cubes[-1] = 0\n",
    "small_cubes"
   ]
  },
  {
   "cell_type": "code",
   "execution_count": 18,
   "id": "9fbd026a",
   "metadata": {},
   "outputs": [
    {
     "data": {
      "text/plain": [
       "[729, 1, 8, 27, 64, 125, 216, 343, 512, 0]"
      ]
     },
     "execution_count": 18,
     "metadata": {},
     "output_type": "execute_result"
    }
   ],
   "source": [
    "small_cubes[0] = 729\n",
    "small_cubes"
   ]
  },
  {
   "cell_type": "markdown",
   "id": "58644912",
   "metadata": {},
   "source": [
    "Second, look at what happens when we assign the value of an expression to a list:"
   ]
  },
  {
   "cell_type": "code",
   "execution_count": 19,
   "id": "f676ab54",
   "metadata": {},
   "outputs": [
    {
     "data": {
      "text/plain": [
       "[1, 2, 3, 4]"
      ]
     },
     "execution_count": 19,
     "metadata": {},
     "output_type": "execute_result"
    }
   ],
   "source": [
    "a = [1,2,3,4]\n",
    "a"
   ]
  },
  {
   "cell_type": "code",
   "execution_count": 20,
   "id": "6801b652",
   "metadata": {},
   "outputs": [
    {
     "data": {
      "text/plain": [
       "[1, 2, 3, 4]"
      ]
     },
     "execution_count": 20,
     "metadata": {},
     "output_type": "execute_result"
    }
   ],
   "source": [
    "b = [1,2,3,4]\n",
    "b"
   ]
  },
  {
   "cell_type": "code",
   "execution_count": 21,
   "id": "0c4a266a",
   "metadata": {},
   "outputs": [
    {
     "data": {
      "text/plain": [
       "([-1, 2, 3, 4], [1, 2, 3, 4])"
      ]
     },
     "execution_count": 21,
     "metadata": {},
     "output_type": "execute_result"
    }
   ],
   "source": [
    "a[0] = -1\n",
    "(a,b)"
   ]
  },
  {
   "cell_type": "markdown",
   "id": "219489aa",
   "metadata": {},
   "source": [
    "When we change\n",
    "```a```\n",
    "we do not change ```b``` (of course!)\n",
    "\n",
    "**BUT!** look at this:"
   ]
  },
  {
   "cell_type": "code",
   "execution_count": 22,
   "id": "359d0c3f",
   "metadata": {},
   "outputs": [
    {
     "data": {
      "text/plain": [
       "[1, 2, 3, 4]"
      ]
     },
     "execution_count": 22,
     "metadata": {},
     "output_type": "execute_result"
    }
   ],
   "source": [
    "c = [1,2,3,4]\n",
    "c"
   ]
  },
  {
   "cell_type": "code",
   "execution_count": 23,
   "id": "aa17d94c",
   "metadata": {},
   "outputs": [
    {
     "data": {
      "text/plain": [
       "[1, 2, 3, 4]"
      ]
     },
     "execution_count": 23,
     "metadata": {},
     "output_type": "execute_result"
    }
   ],
   "source": [
    "d = c\n",
    "d"
   ]
  },
  {
   "cell_type": "code",
   "execution_count": 24,
   "id": "8af91a35",
   "metadata": {},
   "outputs": [
    {
     "data": {
      "text/plain": [
       "([-1, 2, 3, 4], [-1, 2, 3, 4])"
      ]
     },
     "execution_count": 24,
     "metadata": {},
     "output_type": "execute_result"
    }
   ],
   "source": [
    "c[0] = -1\n",
    "(c,d)"
   ]
  },
  {
   "cell_type": "markdown",
   "id": "70cf3937",
   "metadata": {},
   "source": [
    "The assignment \n",
    "\n",
    "```d = c ```\n",
    "\n",
    "did not build another object to assign to ```d```, instead, both variables share the same object (the same list). That is why, when we change the list stored in ```c``` we see the change also when we use ```d```.\n",
    "\n",
    "Now lets look at one more thing:"
   ]
  },
  {
   "cell_type": "code",
   "execution_count": 25,
   "id": "3bd87eba",
   "metadata": {},
   "outputs": [
    {
     "data": {
      "text/plain": [
       "([6, 7], [-1, 2, 3, 4])"
      ]
     },
     "execution_count": 25,
     "metadata": {},
     "output_type": "execute_result"
    }
   ],
   "source": [
    "c = [6,7]\n",
    "(c,d)"
   ]
  },
  {
   "cell_type": "markdown",
   "id": "b3dc1328",
   "metadata": {},
   "source": [
    "What we did now was to assign to ```c``` another object. ```d``` still stores the object that was assigned to it. "
   ]
  },
  {
   "cell_type": "markdown",
   "id": "11319826",
   "metadata": {},
   "source": [
    "## Quiz\n",
    "\n",
    "Try modifying the string in  ```sentence```, for example:\n",
    "\n",
    "```sentence[-1] = '?'```\n",
    "\n",
    "You will get an error message. Do you understand it?"
   ]
  }
 ],
 "metadata": {
  "kernelspec": {
   "display_name": "Python 3",
   "language": "python",
   "name": "python3"
  },
  "language_info": {
   "codemirror_mode": {
    "name": "ipython",
    "version": 3
   },
   "file_extension": ".py",
   "mimetype": "text/x-python",
   "name": "python",
   "nbconvert_exporter": "python",
   "pygments_lexer": "ipython3",
   "version": "3.10.0"
  }
 },
 "nbformat": 4,
 "nbformat_minor": 5
}